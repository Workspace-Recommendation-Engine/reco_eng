{
 "cells": [
  {
   "attachments": {},
   "cell_type": "markdown",
   "metadata": {},
   "source": [
    "## Pytests\n",
    "\n",
    "In order to make use of pytests we must convert the current SAR_v1.ipynb file to SAR_v1.py to access the functions and run the tests. The tests can be found at the path /reco-eng/tests/tests_SAR.py.\n",
    "\n",
    "In the tests_SAR.py file, we must adjust the path to the dataset."
   ]
  },
  {
   "cell_type": "code",
   "execution_count": 1,
   "metadata": {},
   "outputs": [],
   "source": [
    "import os\n",
    "import nbformat\n",
    "from nbconvert import PythonExporter\n",
    "\n",
    "# Specify the paths to the model notebook files\n",
    "SAR_notebook_path= '../examples/models/SAR_v1.ipynb'\n",
    "KNN_notebook_path= '../examples/models/KNN.ipynb'\n",
    "\n",
    "\n",
    "# Specify the paths for the output model Python script\n",
    "SAR_python_path = 'SAR_v1.py'\n",
    "KNN_python_path = 'KNN.py'\n",
    "\n",
    "# Create a PythonExporter object\n",
    "exporter = PythonExporter()\n",
    "\n",
    "\"\"\"\n",
    "GET SAR MODEL PYTHON SCRIPT\n",
    "\"\"\"\n",
    "\n",
    "# Read in the SAR notebook file\n",
    "with open(SAR_notebook_path) as nb_file:\n",
    "    SAR_notebook = nbformat.read(nb_file, as_version=4)\n",
    "\n",
    "# Convert the SAR notebook to a Python script\n",
    "(SAR_script, SAR_script_metadata) = exporter.from_notebook_node(SAR_notebook)\n",
    "\n",
    "# Write the SAR Python script to disk\n",
    "with open(SAR_python_path, 'w') as out_file:\n",
    "    out_file.write(SAR_script)\n",
    "\n",
    "\"\"\"\n",
    "GET KNN MODEL PYTHON SCRIPT\n",
    "\"\"\"\n",
    "\n",
    "# Read in the KNN notebook file\n",
    "with open(KNN_notebook_path) as nb_file:\n",
    "    KNN_notebook = nbformat.read(nb_file, as_version=4)\n",
    "\n",
    "# Convert the KNN notebook to a Python script\n",
    "(KNN_script, KNN_script_metadata) = exporter.from_notebook_node(KNN_notebook)\n",
    "\n",
    "# Write the KNN Python script to disk\n",
    "with open(KNN_python_path, 'w') as out_file:\n",
    "    out_file.write(KNN_script)"
   ]
  }
 ],
 "metadata": {
  "kernelspec": {
   "display_name": "base",
   "language": "python",
   "name": "python3"
  },
  "language_info": {
   "codemirror_mode": {
    "name": "ipython",
    "version": 3
   },
   "file_extension": ".py",
   "mimetype": "text/x-python",
   "name": "python",
   "nbconvert_exporter": "python",
   "pygments_lexer": "ipython3",
   "version": "3.10.9"
  },
  "orig_nbformat": 4
 },
 "nbformat": 4,
 "nbformat_minor": 2
}
