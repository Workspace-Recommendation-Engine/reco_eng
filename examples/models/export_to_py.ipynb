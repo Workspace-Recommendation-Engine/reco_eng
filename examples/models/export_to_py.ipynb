{
 "cells": [
  {
   "attachments": {},
   "cell_type": "markdown",
   "metadata": {},
   "source": [
    "## Pytests\n",
    "\n",
    "In order to make use of pytests we must convert the current SAR_v1.ipynb file to SAR_v1.py to access the functions and run the tests. The tests can be found at the path /reco-eng/tests/tests_SAR.py.\n",
    "\n",
    "In the tests_SAR.py file, we must adjust the path to the dataset."
   ]
  },
  {
   "cell_type": "code",
   "execution_count": 7,
   "metadata": {},
   "outputs": [],
   "source": [
    "import os\n",
    "import nbformat\n",
    "from nbconvert import PythonExporter\n",
    "\n",
    "# Specify the path to the notebook file\n",
    "notebook_path= 'SAR_v1.ipynb'\n",
    "\n",
    "# Specify the path for the output Python script\n",
    "python_path = '../../tests/SAR_v1.py'\n",
    "\n",
    "# Create a PythonExporter object\n",
    "exporter = PythonExporter()\n",
    "\n",
    "# Read in the notebook file\n",
    "with open(notebook_path) as nb_file:\n",
    "    notebook = nbformat.read(nb_file, as_version=4)\n",
    "\n",
    "# Convert the notebook to a Python script\n",
    "(script, script_metadata) = exporter.from_notebook_node(notebook)\n",
    "\n",
    "\n",
    "# Write the Python script to disk\n",
    "with open(python_path, 'w') as out_file:\n",
    "    out_file.write(script)"
   ]
  }
 ],
 "metadata": {
  "kernelspec": {
   "display_name": "base",
   "language": "python",
   "name": "python3"
  },
  "language_info": {
   "codemirror_mode": {
    "name": "ipython",
    "version": 3
   },
   "file_extension": ".py",
   "mimetype": "text/x-python",
   "name": "python",
   "nbconvert_exporter": "python",
   "pygments_lexer": "ipython3",
   "version": "3.10.9"
  },
  "orig_nbformat": 4
 },
 "nbformat": 4,
 "nbformat_minor": 2
}
