{
  "cells": [
    {
      "cell_type": "code",
      "execution_count": 1,
      "metadata": {
        "colab": {
          "base_uri": "https://localhost:8080/"
        },
        "id": "xXMZvaMgFKYM",
        "outputId": "bba2a34d-8eb4-41ea-bd7f-bf5fcdd5f5cb"
      },
      "outputs": [],
      "source": [
        "# import clean df in here\n",
        "import pandas as pd\n",
        "import numpy as np\n",
        "\n",
        "clean_df = pd.read_csv('../../../data/workspaces_clean.csv', index_col=0)"
      ]
    },
    {
      "cell_type": "code",
      "execution_count": 2,
      "metadata": {
        "colab": {
          "base_uri": "https://localhost:8080/",
          "height": 537
        },
        "id": "M3JfKhhEQ9UR",
        "outputId": "28b40899-d3c3-48c5-9919-8ac5231fb48b"
      },
      "outputs": [
        {
          "data": {
            "text/html": [
              "<div>\n",
              "<style scoped>\n",
              "    .dataframe tbody tr th:only-of-type {\n",
              "        vertical-align: middle;\n",
              "    }\n",
              "\n",
              "    .dataframe tbody tr th {\n",
              "        vertical-align: top;\n",
              "    }\n",
              "\n",
              "    .dataframe thead th {\n",
              "        text-align: right;\n",
              "    }\n",
              "</style>\n",
              "<table border=\"1\" class=\"dataframe\">\n",
              "  <thead>\n",
              "    <tr style=\"text-align: right;\">\n",
              "      <th></th>\n",
              "      <th>Workspace_Id</th>\n",
              "      <th>Name</th>\n",
              "      <th>Rating</th>\n",
              "      <th>Review_count</th>\n",
              "      <th>Price_range</th>\n",
              "      <th>Category</th>\n",
              "      <th>Address</th>\n",
              "      <th>Latitude</th>\n",
              "      <th>Longitude</th>\n",
              "      <th>Next_status</th>\n",
              "    </tr>\n",
              "  </thead>\n",
              "  <tbody>\n",
              "    <tr>\n",
              "      <th>0</th>\n",
              "      <td>0</td>\n",
              "      <td>Eugenio Trias Municipal Public Library</td>\n",
              "      <td>3.8</td>\n",
              "      <td>800</td>\n",
              "      <td>0</td>\n",
              "      <td>Public library</td>\n",
              "      <td>P.º de Fernán Núñez, 24</td>\n",
              "      <td>40.416705</td>\n",
              "      <td>-3.679161</td>\n",
              "      <td>Opens 8:30 AM Mon</td>\n",
              "    </tr>\n",
              "    <tr>\n",
              "      <th>1</th>\n",
              "      <td>1</td>\n",
              "      <td>Iván de Vargas Library</td>\n",
              "      <td>4.3</td>\n",
              "      <td>313</td>\n",
              "      <td>0</td>\n",
              "      <td>Public library</td>\n",
              "      <td>C. de San Justo, 5</td>\n",
              "      <td>40.413991</td>\n",
              "      <td>-3.709750</td>\n",
              "      <td>Opens 8:30 AM Mon</td>\n",
              "    </tr>\n",
              "    <tr>\n",
              "      <th>2</th>\n",
              "      <td>2</td>\n",
              "      <td>Biblioteca Mario Vargas Llosa</td>\n",
              "      <td>3.8</td>\n",
              "      <td>178</td>\n",
              "      <td>0</td>\n",
              "      <td>Public library</td>\n",
              "      <td>C. de Barceló, 4</td>\n",
              "      <td>40.426713</td>\n",
              "      <td>-3.699394</td>\n",
              "      <td>Opens 8:30 AM Mon</td>\n",
              "    </tr>\n",
              "    <tr>\n",
              "      <th>3</th>\n",
              "      <td>3</td>\n",
              "      <td>Pedro Salinas Library</td>\n",
              "      <td>4.0</td>\n",
              "      <td>337</td>\n",
              "      <td>0</td>\n",
              "      <td>Public library</td>\n",
              "      <td>Gta. de la Prta de Toledo, 1</td>\n",
              "      <td>40.407074</td>\n",
              "      <td>-3.710894</td>\n",
              "      <td>Opens 9 AM Mon</td>\n",
              "    </tr>\n",
              "    <tr>\n",
              "      <th>4</th>\n",
              "      <td>4</td>\n",
              "      <td>Acuna Public Library</td>\n",
              "      <td>2.9</td>\n",
              "      <td>118</td>\n",
              "      <td>0</td>\n",
              "      <td>Public library</td>\n",
              "      <td>C. de Quintana, 9</td>\n",
              "      <td>40.427932</td>\n",
              "      <td>-3.716937</td>\n",
              "      <td>Opens 9 AM Mon</td>\n",
              "    </tr>\n",
              "    <tr>\n",
              "      <th>...</th>\n",
              "      <td>...</td>\n",
              "      <td>...</td>\n",
              "      <td>...</td>\n",
              "      <td>...</td>\n",
              "      <td>...</td>\n",
              "      <td>...</td>\n",
              "      <td>...</td>\n",
              "      <td>...</td>\n",
              "      <td>...</td>\n",
              "      <td>...</td>\n",
              "    </tr>\n",
              "    <tr>\n",
              "      <th>259</th>\n",
              "      <td>259</td>\n",
              "      <td>Harina</td>\n",
              "      <td>3.9</td>\n",
              "      <td>434</td>\n",
              "      <td>2</td>\n",
              "      <td>Coffee shop</td>\n",
              "      <td>C. de Velázquez, 61</td>\n",
              "      <td>40.429262</td>\n",
              "      <td>-3.684050</td>\n",
              "      <td>Closes 9 PM</td>\n",
              "    </tr>\n",
              "    <tr>\n",
              "      <th>260</th>\n",
              "      <td>260</td>\n",
              "      <td>The Coffee Corner</td>\n",
              "      <td>4.3</td>\n",
              "      <td>314</td>\n",
              "      <td>1</td>\n",
              "      <td>Coffee shop</td>\n",
              "      <td>Av. de Valladolid, 41</td>\n",
              "      <td>40.428630</td>\n",
              "      <td>-3.729667</td>\n",
              "      <td>Closes 9 PM</td>\n",
              "    </tr>\n",
              "    <tr>\n",
              "      <th>261</th>\n",
              "      <td>261</td>\n",
              "      <td>The Bear and the Madroño</td>\n",
              "      <td>4.4</td>\n",
              "      <td>590</td>\n",
              "      <td>1</td>\n",
              "      <td>Espresso bar</td>\n",
              "      <td>C. del Doce de Octubre, 16</td>\n",
              "      <td>40.415687</td>\n",
              "      <td>-3.675956</td>\n",
              "      <td>Closes 10:30 PM</td>\n",
              "    </tr>\n",
              "    <tr>\n",
              "      <th>262</th>\n",
              "      <td>262</td>\n",
              "      <td>Cafés Pozo</td>\n",
              "      <td>4.6</td>\n",
              "      <td>52</td>\n",
              "      <td>0</td>\n",
              "      <td>Coffee store</td>\n",
              "      <td>C. de Miguel Arredondo, 4</td>\n",
              "      <td>40.394994</td>\n",
              "      <td>-3.695993</td>\n",
              "      <td>Closes 2 PMReopens 5 PM</td>\n",
              "    </tr>\n",
              "    <tr>\n",
              "      <th>263</th>\n",
              "      <td>263</td>\n",
              "      <td>Cafés La Mexicana</td>\n",
              "      <td>4.6</td>\n",
              "      <td>112</td>\n",
              "      <td>0</td>\n",
              "      <td>Coffee store</td>\n",
              "      <td>Calle de Fuencarral, 115</td>\n",
              "      <td>40.429825</td>\n",
              "      <td>-3.702889</td>\n",
              "      <td>Closes 1:40 PMReopens 5 PM</td>\n",
              "    </tr>\n",
              "  </tbody>\n",
              "</table>\n",
              "<p>264 rows × 10 columns</p>\n",
              "</div>"
            ],
            "text/plain": [
              "     Workspace_Id                                    Name  Rating  \\\n",
              "0               0  Eugenio Trias Municipal Public Library     3.8   \n",
              "1               1                  Iván de Vargas Library     4.3   \n",
              "2               2           Biblioteca Mario Vargas Llosa     3.8   \n",
              "3               3                   Pedro Salinas Library     4.0   \n",
              "4               4                    Acuna Public Library     2.9   \n",
              "..            ...                                     ...     ...   \n",
              "259           259                                  Harina     3.9   \n",
              "260           260                       The Coffee Corner     4.3   \n",
              "261           261                The Bear and the Madroño     4.4   \n",
              "262           262                              Cafés Pozo     4.6   \n",
              "263           263                       Cafés La Mexicana     4.6   \n",
              "\n",
              "     Review_count  Price_range        Category                       Address  \\\n",
              "0             800            0  Public library       P.º de Fernán Núñez, 24   \n",
              "1             313            0  Public library            C. de San Justo, 5   \n",
              "2             178            0  Public library              C. de Barceló, 4   \n",
              "3             337            0  Public library  Gta. de la Prta de Toledo, 1   \n",
              "4             118            0  Public library             C. de Quintana, 9   \n",
              "..            ...          ...             ...                           ...   \n",
              "259           434            2     Coffee shop           C. de Velázquez, 61   \n",
              "260           314            1     Coffee shop         Av. de Valladolid, 41   \n",
              "261           590            1    Espresso bar    C. del Doce de Octubre, 16   \n",
              "262            52            0    Coffee store     C. de Miguel Arredondo, 4   \n",
              "263           112            0    Coffee store      Calle de Fuencarral, 115   \n",
              "\n",
              "      Latitude  Longitude                 Next_status  \n",
              "0    40.416705  -3.679161           Opens 8:30 AM Mon  \n",
              "1    40.413991  -3.709750           Opens 8:30 AM Mon  \n",
              "2    40.426713  -3.699394           Opens 8:30 AM Mon  \n",
              "3    40.407074  -3.710894              Opens 9 AM Mon  \n",
              "4    40.427932  -3.716937              Opens 9 AM Mon  \n",
              "..         ...        ...                         ...  \n",
              "259  40.429262  -3.684050                 Closes 9 PM  \n",
              "260  40.428630  -3.729667                 Closes 9 PM  \n",
              "261  40.415687  -3.675956             Closes 10:30 PM  \n",
              "262  40.394994  -3.695993     Closes 2 PMReopens 5 PM  \n",
              "263  40.429825  -3.702889  Closes 1:40 PMReopens 5 PM  \n",
              "\n",
              "[264 rows x 10 columns]"
            ]
          },
          "execution_count": 2,
          "metadata": {},
          "output_type": "execute_result"
        }
      ],
      "source": [
        "clean_df"
      ]
    },
    {
      "cell_type": "markdown",
      "metadata": {
        "id": "wiuY63iISdC5"
      },
      "source": [
        "First, we need to work with our category column so that we can get the cosine similarity from it. To do this, we can perform some one hot encoding on this variable so that it is binned in binary values. In other words, this will create a unique binary array for each category so that they can be identified numerically."
      ]
    },
    {
      "cell_type": "code",
      "execution_count": 3,
      "metadata": {
        "id": "5go8zp-EVJC6"
      },
      "outputs": [],
      "source": [
        "categoryList = []\n",
        "for index, row in clean_df.iterrows():\n",
        "    categories = row[\"Category\"]\n",
        "    \n",
        "    for category in categories:\n",
        "        if category not in categoryList:\n",
        "            categoryList.append(category)"
      ]
    },
    {
      "cell_type": "code",
      "execution_count": 4,
      "metadata": {
        "id": "fTqoC3KiUDfR"
      },
      "outputs": [],
      "source": [
        "def binary(category_list):\n",
        "    binaryList = []\n",
        "    \n",
        "    for category in categoryList:\n",
        "        if category in category_list:\n",
        "            binaryList.append(1)\n",
        "        else:\n",
        "            binaryList.append(0)\n",
        "    \n",
        "    return binaryList"
      ]
    },
    {
      "cell_type": "code",
      "execution_count": 5,
      "metadata": {
        "colab": {
          "base_uri": "https://localhost:8080/"
        },
        "id": "d-zvhKtJUVTa",
        "outputId": "4ee43b97-8dbb-4d76-89d4-d4ee99145b4d"
      },
      "outputs": [
        {
          "data": {
            "text/plain": [
              "0    [1, 1, 1, 1, 1, 1, 1, 1, 1, 1, 0, 0, 0, 0, 0, ...\n",
              "1    [1, 1, 1, 1, 1, 1, 1, 1, 1, 1, 0, 0, 0, 0, 0, ...\n",
              "2    [1, 1, 1, 1, 1, 1, 1, 1, 1, 1, 0, 0, 0, 0, 0, ...\n",
              "3    [1, 1, 1, 1, 1, 1, 1, 1, 1, 1, 0, 0, 0, 0, 0, ...\n",
              "4    [1, 1, 1, 1, 1, 1, 1, 1, 1, 1, 0, 0, 0, 0, 0, ...\n",
              "Name: category_bin, dtype: object"
            ]
          },
          "execution_count": 5,
          "metadata": {},
          "output_type": "execute_result"
        }
      ],
      "source": [
        "clean_df['category_bin'] = clean_df['Category'].apply(lambda x: binary(x))\n",
        "clean_df['category_bin'].head()"
      ]
    },
    {
      "cell_type": "code",
      "execution_count": 6,
      "metadata": {
        "colab": {
          "base_uri": "https://localhost:8080/",
          "height": 337
        },
        "id": "qhYLqCA2StDI",
        "outputId": "22f3657f-8a29-45eb-8359-d5d9f3fc195d"
      },
      "outputs": [
        {
          "data": {
            "text/html": [
              "<div>\n",
              "<style scoped>\n",
              "    .dataframe tbody tr th:only-of-type {\n",
              "        vertical-align: middle;\n",
              "    }\n",
              "\n",
              "    .dataframe tbody tr th {\n",
              "        vertical-align: top;\n",
              "    }\n",
              "\n",
              "    .dataframe thead th {\n",
              "        text-align: right;\n",
              "    }\n",
              "</style>\n",
              "<table border=\"1\" class=\"dataframe\">\n",
              "  <thead>\n",
              "    <tr style=\"text-align: right;\">\n",
              "      <th></th>\n",
              "      <th>Workspace_Id</th>\n",
              "      <th>Name</th>\n",
              "      <th>Rating</th>\n",
              "      <th>Review_count</th>\n",
              "      <th>Price_range</th>\n",
              "      <th>Category</th>\n",
              "      <th>Address</th>\n",
              "      <th>Latitude</th>\n",
              "      <th>Longitude</th>\n",
              "      <th>Next_status</th>\n",
              "      <th>category_bin</th>\n",
              "    </tr>\n",
              "  </thead>\n",
              "  <tbody>\n",
              "    <tr>\n",
              "      <th>0</th>\n",
              "      <td>0</td>\n",
              "      <td>Eugenio Trias Municipal Public Library</td>\n",
              "      <td>3.8</td>\n",
              "      <td>800</td>\n",
              "      <td>0</td>\n",
              "      <td>Public library</td>\n",
              "      <td>P.º de Fernán Núñez, 24</td>\n",
              "      <td>40.416705</td>\n",
              "      <td>-3.679161</td>\n",
              "      <td>Opens 8:30 AM Mon</td>\n",
              "      <td>[1, 1, 1, 1, 1, 1, 1, 1, 1, 1, 0, 0, 0, 0, 0, ...</td>\n",
              "    </tr>\n",
              "    <tr>\n",
              "      <th>1</th>\n",
              "      <td>1</td>\n",
              "      <td>Iván de Vargas Library</td>\n",
              "      <td>4.3</td>\n",
              "      <td>313</td>\n",
              "      <td>0</td>\n",
              "      <td>Public library</td>\n",
              "      <td>C. de San Justo, 5</td>\n",
              "      <td>40.413991</td>\n",
              "      <td>-3.709750</td>\n",
              "      <td>Opens 8:30 AM Mon</td>\n",
              "      <td>[1, 1, 1, 1, 1, 1, 1, 1, 1, 1, 0, 0, 0, 0, 0, ...</td>\n",
              "    </tr>\n",
              "    <tr>\n",
              "      <th>2</th>\n",
              "      <td>2</td>\n",
              "      <td>Biblioteca Mario Vargas Llosa</td>\n",
              "      <td>3.8</td>\n",
              "      <td>178</td>\n",
              "      <td>0</td>\n",
              "      <td>Public library</td>\n",
              "      <td>C. de Barceló, 4</td>\n",
              "      <td>40.426713</td>\n",
              "      <td>-3.699394</td>\n",
              "      <td>Opens 8:30 AM Mon</td>\n",
              "      <td>[1, 1, 1, 1, 1, 1, 1, 1, 1, 1, 0, 0, 0, 0, 0, ...</td>\n",
              "    </tr>\n",
              "    <tr>\n",
              "      <th>3</th>\n",
              "      <td>3</td>\n",
              "      <td>Pedro Salinas Library</td>\n",
              "      <td>4.0</td>\n",
              "      <td>337</td>\n",
              "      <td>0</td>\n",
              "      <td>Public library</td>\n",
              "      <td>Gta. de la Prta de Toledo, 1</td>\n",
              "      <td>40.407074</td>\n",
              "      <td>-3.710894</td>\n",
              "      <td>Opens 9 AM Mon</td>\n",
              "      <td>[1, 1, 1, 1, 1, 1, 1, 1, 1, 1, 0, 0, 0, 0, 0, ...</td>\n",
              "    </tr>\n",
              "    <tr>\n",
              "      <th>4</th>\n",
              "      <td>4</td>\n",
              "      <td>Acuna Public Library</td>\n",
              "      <td>2.9</td>\n",
              "      <td>118</td>\n",
              "      <td>0</td>\n",
              "      <td>Public library</td>\n",
              "      <td>C. de Quintana, 9</td>\n",
              "      <td>40.427932</td>\n",
              "      <td>-3.716937</td>\n",
              "      <td>Opens 9 AM Mon</td>\n",
              "      <td>[1, 1, 1, 1, 1, 1, 1, 1, 1, 1, 0, 0, 0, 0, 0, ...</td>\n",
              "    </tr>\n",
              "  </tbody>\n",
              "</table>\n",
              "</div>"
            ],
            "text/plain": [
              "   Workspace_Id                                    Name  Rating  Review_count  \\\n",
              "0             0  Eugenio Trias Municipal Public Library     3.8           800   \n",
              "1             1                  Iván de Vargas Library     4.3           313   \n",
              "2             2           Biblioteca Mario Vargas Llosa     3.8           178   \n",
              "3             3                   Pedro Salinas Library     4.0           337   \n",
              "4             4                    Acuna Public Library     2.9           118   \n",
              "\n",
              "   Price_range        Category                       Address   Latitude  \\\n",
              "0            0  Public library       P.º de Fernán Núñez, 24  40.416705   \n",
              "1            0  Public library            C. de San Justo, 5  40.413991   \n",
              "2            0  Public library              C. de Barceló, 4  40.426713   \n",
              "3            0  Public library  Gta. de la Prta de Toledo, 1  40.407074   \n",
              "4            0  Public library             C. de Quintana, 9  40.427932   \n",
              "\n",
              "   Longitude        Next_status  \\\n",
              "0  -3.679161  Opens 8:30 AM Mon   \n",
              "1  -3.709750  Opens 8:30 AM Mon   \n",
              "2  -3.699394  Opens 8:30 AM Mon   \n",
              "3  -3.710894     Opens 9 AM Mon   \n",
              "4  -3.716937     Opens 9 AM Mon   \n",
              "\n",
              "                                        category_bin  \n",
              "0  [1, 1, 1, 1, 1, 1, 1, 1, 1, 1, 0, 0, 0, 0, 0, ...  \n",
              "1  [1, 1, 1, 1, 1, 1, 1, 1, 1, 1, 0, 0, 0, 0, 0, ...  \n",
              "2  [1, 1, 1, 1, 1, 1, 1, 1, 1, 1, 0, 0, 0, 0, 0, ...  \n",
              "3  [1, 1, 1, 1, 1, 1, 1, 1, 1, 1, 0, 0, 0, 0, 0, ...  \n",
              "4  [1, 1, 1, 1, 1, 1, 1, 1, 1, 1, 0, 0, 0, 0, 0, ...  "
            ]
          },
          "execution_count": 6,
          "metadata": {},
          "output_type": "execute_result"
        }
      ],
      "source": [
        "clean_df.head()"
      ]
    },
    {
      "cell_type": "markdown",
      "metadata": {
        "id": "rwZIfwVTV6Qj"
      },
      "source": [
        "Now we create a function to get the cosine similaity based on any two given categories that are passed in."
      ]
    },
    {
      "cell_type": "code",
      "execution_count": 7,
      "metadata": {
        "id": "Uzy4iaVYJFZ1"
      },
      "outputs": [],
      "source": [
        "from scipy import spatial\n",
        "\n",
        "def similarity(workspaceId1, workspaceId2):\n",
        "    a = clean_df.iloc[workspaceId1]\n",
        "    b = clean_df.iloc[workspaceId2]\n",
        "    \n",
        "    categoryA = a['category_bin']\n",
        "    categoryB = b['category_bin']\n",
        "    \n",
        "    categoryDistance = spatial.distance.cosine(categoryA, categoryB)\n",
        "    \n",
        "    return categoryDistance \n"
      ]
    },
    {
      "cell_type": "markdown",
      "metadata": {
        "id": "nLsxeBrCc7Wx"
      },
      "source": [
        "Now for the final step, which is implementing a score predictor. This will hinge upon the similarity function we just built to analyze the k-nearest neighbors. Here's how it works:\n",
        "\n",
        "The first thing it does is ask the user to enter a location. This could be a previous location they particularly enjoyed. Then, we get the k-nearest neighbors based on the cosine similarity of each cateogry corresponding to each neighboring workspace. We then rank the list of recommendations based on their cosine similarity score and print the result which includes the name of the location as well as the star rating it has on Google Maps."
      ]
    },
    {
      "cell_type": "code",
      "execution_count": 8,
      "metadata": {
        "id": "r1QmAmpvLefP"
      },
      "outputs": [],
      "source": [
        "import operator\n",
        "\n",
        "def predict_score():\n",
        "    name = input('Enter a location: ')\n",
        "    new_location = clean_df[clean_df['Name'].str.contains(name)].iloc[0].to_frame().T\n",
        "    print('Selected Location: ',new_location.Name.values[0])\n",
        "\n",
        "    def getNeighbors(baseLocation, K):\n",
        "        distances = []\n",
        "    \n",
        "        for index, location in clean_df.iterrows():\n",
        "            if location['Workspace_Id'] != baseLocation['Workspace_Id'].values[0]:\n",
        "                dist = similarity(baseLocation['Workspace_Id'].values[0], location['Workspace_Id'])\n",
        "                distances.append((location['Workspace_Id'], dist))\n",
        "    \n",
        "        distances.sort(key=operator.itemgetter(1))\n",
        "        neighbors = []\n",
        "    \n",
        "        for x in range(K):\n",
        "            neighbors.append(distances[x])\n",
        "        return neighbors\n",
        "    \n",
        "    K = 10\n",
        "    neighbors = getNeighbors(new_location, K)\n",
        "    print('\\nRecommended Workspaces: \\n')\n",
        "    for neighbor in neighbors: \n",
        "        print( \"\\n\\nIndex: \", clean_df.iloc[neighbor[0]][0], \"\\nName: \",str(clean_df.iloc[neighbor[0]][1]).strip('[]'), \"\\nRating: \", str(clean_df.iloc[neighbor[0]][2]) )\n",
        "    "
      ]
    },
    {
      "cell_type": "code",
      "execution_count": 12,
      "metadata": {
        "colab": {
          "base_uri": "https://localhost:8080/"
        },
        "id": "TFruej0Xk5XD",
        "outputId": "1b87ff96-77b1-4e6c-d905-71c92e205096"
      },
      "outputs": [
        {
          "ename": "KeyboardInterrupt",
          "evalue": "Interrupted by user",
          "output_type": "error",
          "traceback": [
            "\u001b[0;31m---------------------------------------------------------------------------\u001b[0m",
            "\u001b[0;31mKeyboardInterrupt\u001b[0m                         Traceback (most recent call last)",
            "Cell \u001b[0;32mIn[12], line 1\u001b[0m\n\u001b[0;32m----> 1\u001b[0m predict_score()\n",
            "Cell \u001b[0;32mIn[8], line 4\u001b[0m, in \u001b[0;36mpredict_score\u001b[0;34m()\u001b[0m\n\u001b[1;32m      3\u001b[0m \u001b[39mdef\u001b[39;00m \u001b[39mpredict_score\u001b[39m():\n\u001b[0;32m----> 4\u001b[0m     name \u001b[39m=\u001b[39m \u001b[39minput\u001b[39;49m(\u001b[39m'\u001b[39;49m\u001b[39mEnter a location: \u001b[39;49m\u001b[39m'\u001b[39;49m)\n\u001b[1;32m      5\u001b[0m     new_location \u001b[39m=\u001b[39m clean_df[clean_df[\u001b[39m'\u001b[39m\u001b[39mName\u001b[39m\u001b[39m'\u001b[39m]\u001b[39m.\u001b[39mstr\u001b[39m.\u001b[39mcontains(name)]\u001b[39m.\u001b[39miloc[\u001b[39m0\u001b[39m]\u001b[39m.\u001b[39mto_frame()\u001b[39m.\u001b[39mT\n\u001b[1;32m      6\u001b[0m     \u001b[39mprint\u001b[39m(\u001b[39m'\u001b[39m\u001b[39mSelected Location: \u001b[39m\u001b[39m'\u001b[39m,new_location\u001b[39m.\u001b[39mName\u001b[39m.\u001b[39mvalues[\u001b[39m0\u001b[39m])\n",
            "File \u001b[0;32m~/miniconda3/lib/python3.10/site-packages/ipykernel/kernelbase.py:1191\u001b[0m, in \u001b[0;36mKernel.raw_input\u001b[0;34m(self, prompt)\u001b[0m\n\u001b[1;32m   1189\u001b[0m     msg \u001b[39m=\u001b[39m \u001b[39m\"\u001b[39m\u001b[39mraw_input was called, but this frontend does not support input requests.\u001b[39m\u001b[39m\"\u001b[39m\n\u001b[1;32m   1190\u001b[0m     \u001b[39mraise\u001b[39;00m StdinNotImplementedError(msg)\n\u001b[0;32m-> 1191\u001b[0m \u001b[39mreturn\u001b[39;00m \u001b[39mself\u001b[39;49m\u001b[39m.\u001b[39;49m_input_request(\n\u001b[1;32m   1192\u001b[0m     \u001b[39mstr\u001b[39;49m(prompt),\n\u001b[1;32m   1193\u001b[0m     \u001b[39mself\u001b[39;49m\u001b[39m.\u001b[39;49m_parent_ident[\u001b[39m\"\u001b[39;49m\u001b[39mshell\u001b[39;49m\u001b[39m\"\u001b[39;49m],\n\u001b[1;32m   1194\u001b[0m     \u001b[39mself\u001b[39;49m\u001b[39m.\u001b[39;49mget_parent(\u001b[39m\"\u001b[39;49m\u001b[39mshell\u001b[39;49m\u001b[39m\"\u001b[39;49m),\n\u001b[1;32m   1195\u001b[0m     password\u001b[39m=\u001b[39;49m\u001b[39mFalse\u001b[39;49;00m,\n\u001b[1;32m   1196\u001b[0m )\n",
            "File \u001b[0;32m~/miniconda3/lib/python3.10/site-packages/ipykernel/kernelbase.py:1234\u001b[0m, in \u001b[0;36mKernel._input_request\u001b[0;34m(self, prompt, ident, parent, password)\u001b[0m\n\u001b[1;32m   1231\u001b[0m \u001b[39mexcept\u001b[39;00m \u001b[39mKeyboardInterrupt\u001b[39;00m:\n\u001b[1;32m   1232\u001b[0m     \u001b[39m# re-raise KeyboardInterrupt, to truncate traceback\u001b[39;00m\n\u001b[1;32m   1233\u001b[0m     msg \u001b[39m=\u001b[39m \u001b[39m\"\u001b[39m\u001b[39mInterrupted by user\u001b[39m\u001b[39m\"\u001b[39m\n\u001b[0;32m-> 1234\u001b[0m     \u001b[39mraise\u001b[39;00m \u001b[39mKeyboardInterrupt\u001b[39;00m(msg) \u001b[39mfrom\u001b[39;00m \u001b[39mNone\u001b[39m\n\u001b[1;32m   1235\u001b[0m \u001b[39mexcept\u001b[39;00m \u001b[39mException\u001b[39;00m:\n\u001b[1;32m   1236\u001b[0m     \u001b[39mself\u001b[39m\u001b[39m.\u001b[39mlog\u001b[39m.\u001b[39mwarning(\u001b[39m\"\u001b[39m\u001b[39mInvalid Message:\u001b[39m\u001b[39m\"\u001b[39m, exc_info\u001b[39m=\u001b[39m\u001b[39mTrue\u001b[39;00m)\n",
            "\u001b[0;31mKeyboardInterrupt\u001b[0m: Interrupted by user"
          ]
        }
      ],
      "source": [
        "predict_score()"
      ]
    },
    {
      "cell_type": "code",
      "execution_count": 10,
      "metadata": {
        "id": "lUB6pROzmLtR"
      },
      "outputs": [],
      "source": [
        "def multiplier(user_affinity_vector):\n",
        "    print(\"test\")"
      ]
    }
  ],
  "metadata": {
    "colab": {
      "provenance": []
    },
    "kernelspec": {
      "display_name": "Python 3",
      "name": "python3"
    },
    "language_info": {
      "codemirror_mode": {
        "name": "ipython",
        "version": 3
      },
      "file_extension": ".py",
      "mimetype": "text/x-python",
      "name": "python",
      "nbconvert_exporter": "python",
      "pygments_lexer": "ipython3",
      "version": "3.10.9"
    }
  },
  "nbformat": 4,
  "nbformat_minor": 0
}
