{
  "cells": [
    {
      "cell_type": "code",
      "execution_count": 22,
      "metadata": {
        "colab": {
          "base_uri": "https://localhost:8080/"
        },
        "id": "xG-92x8PhWGi",
        "outputId": "e00bf5c4-a1cd-408e-d592-f1a4ef5b9ba0"
      },
      "outputs": [
        {
          "name": "stdout",
          "output_type": "stream",
          "text": [
            "Requirement already satisfied: scrapbook in /opt/anaconda3/envs/.venv/lib/python3.9/site-packages (0.5.0)\n",
            "Requirement already satisfied: jsonschema in /opt/anaconda3/envs/.venv/lib/python3.9/site-packages (from scrapbook) (4.17.3)\n",
            "Requirement already satisfied: pyarrow in /opt/anaconda3/envs/.venv/lib/python3.9/site-packages (from scrapbook) (11.0.0)\n",
            "Requirement already satisfied: ipython in /opt/anaconda3/envs/.venv/lib/python3.9/site-packages (from scrapbook) (8.10.0)\n",
            "Requirement already satisfied: pandas in /opt/anaconda3/envs/.venv/lib/python3.9/site-packages (from scrapbook) (1.5.3)\n",
            "Requirement already satisfied: papermill in /opt/anaconda3/envs/.venv/lib/python3.9/site-packages (from scrapbook) (2.4.0)\n",
            "Requirement already satisfied: appnope in /opt/anaconda3/envs/.venv/lib/python3.9/site-packages (from ipython->scrapbook) (0.1.2)\n",
            "Requirement already satisfied: prompt-toolkit<3.1.0,>=3.0.30 in /opt/anaconda3/envs/.venv/lib/python3.9/site-packages (from ipython->scrapbook) (3.0.36)\n",
            "Requirement already satisfied: backcall in /opt/anaconda3/envs/.venv/lib/python3.9/site-packages (from ipython->scrapbook) (0.2.0)\n",
            "Requirement already satisfied: pexpect>4.3 in /opt/anaconda3/envs/.venv/lib/python3.9/site-packages (from ipython->scrapbook) (4.8.0)\n",
            "Requirement already satisfied: decorator in /opt/anaconda3/envs/.venv/lib/python3.9/site-packages (from ipython->scrapbook) (5.1.1)\n",
            "Requirement already satisfied: stack-data in /opt/anaconda3/envs/.venv/lib/python3.9/site-packages (from ipython->scrapbook) (0.2.0)\n",
            "Requirement already satisfied: traitlets>=5 in /opt/anaconda3/envs/.venv/lib/python3.9/site-packages (from ipython->scrapbook) (5.7.1)\n",
            "Requirement already satisfied: pygments>=2.4.0 in /opt/anaconda3/envs/.venv/lib/python3.9/site-packages (from ipython->scrapbook) (2.11.2)\n",
            "Requirement already satisfied: pickleshare in /opt/anaconda3/envs/.venv/lib/python3.9/site-packages (from ipython->scrapbook) (0.7.5)\n",
            "Requirement already satisfied: matplotlib-inline in /opt/anaconda3/envs/.venv/lib/python3.9/site-packages (from ipython->scrapbook) (0.1.6)\n",
            "Requirement already satisfied: jedi>=0.16 in /opt/anaconda3/envs/.venv/lib/python3.9/site-packages (from ipython->scrapbook) (0.18.1)\n",
            "Requirement already satisfied: pyrsistent!=0.17.0,!=0.17.1,!=0.17.2,>=0.14.0 in /opt/anaconda3/envs/.venv/lib/python3.9/site-packages (from jsonschema->scrapbook) (0.18.0)\n",
            "Requirement already satisfied: attrs>=17.4.0 in /opt/anaconda3/envs/.venv/lib/python3.9/site-packages (from jsonschema->scrapbook) (22.1.0)\n",
            "Requirement already satisfied: python-dateutil>=2.8.1 in /opt/anaconda3/envs/.venv/lib/python3.9/site-packages (from pandas->scrapbook) (2.8.2)\n",
            "Requirement already satisfied: numpy>=1.20.3 in /opt/anaconda3/envs/.venv/lib/python3.9/site-packages (from pandas->scrapbook) (1.23.5)\n",
            "Requirement already satisfied: pytz>=2020.1 in /opt/anaconda3/envs/.venv/lib/python3.9/site-packages (from pandas->scrapbook) (2022.7)\n",
            "Requirement already satisfied: pyyaml in /opt/anaconda3/envs/.venv/lib/python3.9/site-packages (from papermill->scrapbook) (5.4.1)\n",
            "Requirement already satisfied: ansiwrap in /opt/anaconda3/envs/.venv/lib/python3.9/site-packages (from papermill->scrapbook) (0.8.4)\n",
            "Requirement already satisfied: nbclient>=0.2.0 in /opt/anaconda3/envs/.venv/lib/python3.9/site-packages (from papermill->scrapbook) (0.5.13)\n",
            "Requirement already satisfied: tqdm>=4.32.2 in /opt/anaconda3/envs/.venv/lib/python3.9/site-packages (from papermill->scrapbook) (4.64.1)\n",
            "Requirement already satisfied: requests in /opt/anaconda3/envs/.venv/lib/python3.9/site-packages (from papermill->scrapbook) (2.28.1)\n",
            "Requirement already satisfied: nbformat>=5.1.2 in /opt/anaconda3/envs/.venv/lib/python3.9/site-packages (from papermill->scrapbook) (5.7.0)\n",
            "Requirement already satisfied: entrypoints in /opt/anaconda3/envs/.venv/lib/python3.9/site-packages (from papermill->scrapbook) (0.4)\n",
            "Requirement already satisfied: click in /opt/anaconda3/envs/.venv/lib/python3.9/site-packages (from papermill->scrapbook) (8.1.3)\n",
            "Requirement already satisfied: tenacity in /opt/anaconda3/envs/.venv/lib/python3.9/site-packages (from papermill->scrapbook) (8.2.2)\n",
            "Requirement already satisfied: parso<0.9.0,>=0.8.0 in /opt/anaconda3/envs/.venv/lib/python3.9/site-packages (from jedi>=0.16->ipython->scrapbook) (0.8.3)\n",
            "Requirement already satisfied: jupyter-client>=6.1.5 in /opt/anaconda3/envs/.venv/lib/python3.9/site-packages (from nbclient>=0.2.0->papermill->scrapbook) (7.4.9)\n",
            "Requirement already satisfied: nest-asyncio in /opt/anaconda3/envs/.venv/lib/python3.9/site-packages (from nbclient>=0.2.0->papermill->scrapbook) (1.5.6)\n",
            "Requirement already satisfied: jupyter-core in /opt/anaconda3/envs/.venv/lib/python3.9/site-packages (from nbformat>=5.1.2->papermill->scrapbook) (5.2.0)\n",
            "Requirement already satisfied: fastjsonschema in /opt/anaconda3/envs/.venv/lib/python3.9/site-packages (from nbformat>=5.1.2->papermill->scrapbook) (2.16.2)\n",
            "Requirement already satisfied: ptyprocess>=0.5 in /opt/anaconda3/envs/.venv/lib/python3.9/site-packages (from pexpect>4.3->ipython->scrapbook) (0.7.0)\n",
            "Requirement already satisfied: wcwidth in /opt/anaconda3/envs/.venv/lib/python3.9/site-packages (from prompt-toolkit<3.1.0,>=3.0.30->ipython->scrapbook) (0.2.5)\n",
            "Requirement already satisfied: six>=1.5 in /opt/anaconda3/envs/.venv/lib/python3.9/site-packages (from python-dateutil>=2.8.1->pandas->scrapbook) (1.16.0)\n",
            "Requirement already satisfied: textwrap3>=0.9.2 in /opt/anaconda3/envs/.venv/lib/python3.9/site-packages (from ansiwrap->papermill->scrapbook) (0.9.2)\n",
            "Requirement already satisfied: charset-normalizer<3,>=2 in /opt/anaconda3/envs/.venv/lib/python3.9/site-packages (from requests->papermill->scrapbook) (2.0.4)\n",
            "Requirement already satisfied: certifi>=2017.4.17 in /opt/anaconda3/envs/.venv/lib/python3.9/site-packages (from requests->papermill->scrapbook) (2022.12.7)\n",
            "Requirement already satisfied: urllib3<1.27,>=1.21.1 in /opt/anaconda3/envs/.venv/lib/python3.9/site-packages (from requests->papermill->scrapbook) (1.26.14)\n",
            "Requirement already satisfied: idna<4,>=2.5 in /opt/anaconda3/envs/.venv/lib/python3.9/site-packages (from requests->papermill->scrapbook) (3.4)\n",
            "Requirement already satisfied: executing in /opt/anaconda3/envs/.venv/lib/python3.9/site-packages (from stack-data->ipython->scrapbook) (0.8.3)\n",
            "Requirement already satisfied: asttokens in /opt/anaconda3/envs/.venv/lib/python3.9/site-packages (from stack-data->ipython->scrapbook) (2.0.5)\n",
            "Requirement already satisfied: pure-eval in /opt/anaconda3/envs/.venv/lib/python3.9/site-packages (from stack-data->ipython->scrapbook) (0.2.2)\n",
            "Requirement already satisfied: pyzmq>=23.0 in /opt/anaconda3/envs/.venv/lib/python3.9/site-packages (from jupyter-client>=6.1.5->nbclient>=0.2.0->papermill->scrapbook) (23.2.0)\n",
            "Requirement already satisfied: tornado>=6.2 in /opt/anaconda3/envs/.venv/lib/python3.9/site-packages (from jupyter-client>=6.1.5->nbclient>=0.2.0->papermill->scrapbook) (6.2)\n",
            "Requirement already satisfied: platformdirs>=2.5 in /opt/anaconda3/envs/.venv/lib/python3.9/site-packages (from jupyter-core->nbformat>=5.1.2->papermill->scrapbook) (2.5.2)\n",
            "Requirement already satisfied: recommenders in /opt/anaconda3/envs/.venv/lib/python3.9/site-packages (1.1.1)\n",
            "Requirement already satisfied: requests<3,>=2.0.0 in /opt/anaconda3/envs/.venv/lib/python3.9/site-packages (from recommenders) (2.28.1)\n",
            "Requirement already satisfied: scikit-learn<1.0.3,>=0.22.1 in /opt/anaconda3/envs/.venv/lib/python3.9/site-packages (from recommenders) (1.0.2)\n",
            "Requirement already satisfied: pyyaml<6,>=5.4.1 in /opt/anaconda3/envs/.venv/lib/python3.9/site-packages (from recommenders) (5.4.1)\n",
            "Requirement already satisfied: bottleneck<2,>=1.2.1 in /opt/anaconda3/envs/.venv/lib/python3.9/site-packages (from recommenders) (1.3.6)\n",
            "Requirement already satisfied: lightfm<2,>=1.15 in /opt/anaconda3/envs/.venv/lib/python3.9/site-packages (from recommenders) (1.16)\n",
            "Requirement already satisfied: transformers<5,>=2.5.0 in /opt/anaconda3/envs/.venv/lib/python3.9/site-packages (from recommenders) (4.26.1)\n",
            "Requirement already satisfied: scipy<2,>=1.0.0 in /opt/anaconda3/envs/.venv/lib/python3.9/site-packages (from recommenders) (1.10.1)\n",
            "Requirement already satisfied: category-encoders<2,>=1.3.0 in /opt/anaconda3/envs/.venv/lib/python3.9/site-packages (from recommenders) (1.3.0)\n",
            "Requirement already satisfied: numpy>=1.19 in /opt/anaconda3/envs/.venv/lib/python3.9/site-packages (from recommenders) (1.23.5)\n",
            "Requirement already satisfied: jinja2<3.1,>=2 in /opt/anaconda3/envs/.venv/lib/python3.9/site-packages (from recommenders) (3.0.3)\n",
            "Requirement already satisfied: retrying>=1.3.3 in /opt/anaconda3/envs/.venv/lib/python3.9/site-packages (from recommenders) (1.3.4)\n",
            "Requirement already satisfied: pandas<2,>1.0.3 in /opt/anaconda3/envs/.venv/lib/python3.9/site-packages (from recommenders) (1.5.3)\n",
            "Requirement already satisfied: nltk<4,>=3.4 in /opt/anaconda3/envs/.venv/lib/python3.9/site-packages (from recommenders) (3.8.1)\n",
            "Requirement already satisfied: pandera[strategies]>=0.6.5 in /opt/anaconda3/envs/.venv/lib/python3.9/site-packages (from recommenders) (0.13.4)\n",
            "Requirement already satisfied: cornac<2,>=1.1.2 in /opt/anaconda3/envs/.venv/lib/python3.9/site-packages (from recommenders) (1.14.2)\n",
            "Requirement already satisfied: memory-profiler<1,>=0.54.0 in /opt/anaconda3/envs/.venv/lib/python3.9/site-packages (from recommenders) (0.61.0)\n",
            "Requirement already satisfied: numba<1,>=0.38.1 in /opt/anaconda3/envs/.venv/lib/python3.9/site-packages (from recommenders) (0.56.4)\n",
            "Requirement already satisfied: lightgbm>=2.2.1 in /opt/anaconda3/envs/.venv/lib/python3.9/site-packages (from recommenders) (3.3.5)\n",
            "Requirement already satisfied: seaborn<1,>=0.8.1 in /opt/anaconda3/envs/.venv/lib/python3.9/site-packages (from recommenders) (0.12.2)\n",
            "Requirement already satisfied: matplotlib<4,>=2.2.2 in /opt/anaconda3/envs/.venv/lib/python3.9/site-packages (from recommenders) (3.7.0)\n",
            "Requirement already satisfied: scikit-surprise>=1.0.6 in /opt/anaconda3/envs/.venv/lib/python3.9/site-packages (from recommenders) (1.1.3)\n",
            "Requirement already satisfied: tqdm<5,>=4.31.1 in /opt/anaconda3/envs/.venv/lib/python3.9/site-packages (from recommenders) (4.64.1)\n",
            "Requirement already satisfied: patsy>=0.4.1 in /opt/anaconda3/envs/.venv/lib/python3.9/site-packages (from category-encoders<2,>=1.3.0->recommenders) (0.5.3)\n",
            "Requirement already satisfied: statsmodels>=0.6.1 in /opt/anaconda3/envs/.venv/lib/python3.9/site-packages (from category-encoders<2,>=1.3.0->recommenders) (0.13.5)\n",
            "Requirement already satisfied: powerlaw in /opt/anaconda3/envs/.venv/lib/python3.9/site-packages (from cornac<2,>=1.1.2->recommenders) (1.5)\n",
            "Requirement already satisfied: MarkupSafe>=2.0 in /opt/anaconda3/envs/.venv/lib/python3.9/site-packages (from jinja2<3.1,>=2->recommenders) (2.1.1)\n",
            "Requirement already satisfied: wheel in /opt/anaconda3/envs/.venv/lib/python3.9/site-packages (from lightgbm>=2.2.1->recommenders) (0.38.4)\n",
            "Requirement already satisfied: fonttools>=4.22.0 in /opt/anaconda3/envs/.venv/lib/python3.9/site-packages (from matplotlib<4,>=2.2.2->recommenders) (4.38.0)\n",
            "Requirement already satisfied: contourpy>=1.0.1 in /opt/anaconda3/envs/.venv/lib/python3.9/site-packages (from matplotlib<4,>=2.2.2->recommenders) (1.0.7)\n",
            "Requirement already satisfied: python-dateutil>=2.7 in /opt/anaconda3/envs/.venv/lib/python3.9/site-packages (from matplotlib<4,>=2.2.2->recommenders) (2.8.2)\n",
            "Requirement already satisfied: pyparsing>=2.3.1 in /opt/anaconda3/envs/.venv/lib/python3.9/site-packages (from matplotlib<4,>=2.2.2->recommenders) (3.0.9)\n",
            "Requirement already satisfied: pillow>=6.2.0 in /opt/anaconda3/envs/.venv/lib/python3.9/site-packages (from matplotlib<4,>=2.2.2->recommenders) (9.4.0)\n",
            "Requirement already satisfied: packaging>=20.0 in /opt/anaconda3/envs/.venv/lib/python3.9/site-packages (from matplotlib<4,>=2.2.2->recommenders) (22.0)\n",
            "Requirement already satisfied: kiwisolver>=1.0.1 in /opt/anaconda3/envs/.venv/lib/python3.9/site-packages (from matplotlib<4,>=2.2.2->recommenders) (1.4.4)\n",
            "Requirement already satisfied: cycler>=0.10 in /opt/anaconda3/envs/.venv/lib/python3.9/site-packages (from matplotlib<4,>=2.2.2->recommenders) (0.11.0)\n",
            "Requirement already satisfied: importlib-resources>=3.2.0 in /opt/anaconda3/envs/.venv/lib/python3.9/site-packages (from matplotlib<4,>=2.2.2->recommenders) (5.12.0)\n",
            "Requirement already satisfied: psutil in /opt/anaconda3/envs/.venv/lib/python3.9/site-packages (from memory-profiler<1,>=0.54.0->recommenders) (5.9.0)\n",
            "Requirement already satisfied: regex>=2021.8.3 in /opt/anaconda3/envs/.venv/lib/python3.9/site-packages (from nltk<4,>=3.4->recommenders) (2022.10.31)\n",
            "Requirement already satisfied: click in /opt/anaconda3/envs/.venv/lib/python3.9/site-packages (from nltk<4,>=3.4->recommenders) (8.1.3)\n",
            "Requirement already satisfied: joblib in /opt/anaconda3/envs/.venv/lib/python3.9/site-packages (from nltk<4,>=3.4->recommenders) (1.2.0)\n",
            "Requirement already satisfied: llvmlite<0.40,>=0.39.0dev0 in /opt/anaconda3/envs/.venv/lib/python3.9/site-packages (from numba<1,>=0.38.1->recommenders) (0.39.1)\n",
            "Requirement already satisfied: setuptools in /opt/anaconda3/envs/.venv/lib/python3.9/site-packages (from numba<1,>=0.38.1->recommenders) (65.6.3)\n",
            "Requirement already satisfied: pytz>=2020.1 in /opt/anaconda3/envs/.venv/lib/python3.9/site-packages (from pandas<2,>1.0.3->recommenders) (2022.7)\n",
            "Requirement already satisfied: wrapt in /opt/anaconda3/envs/.venv/lib/python3.9/site-packages (from pandera[strategies]>=0.6.5->recommenders) (1.15.0)\n",
            "Requirement already satisfied: pydantic in /opt/anaconda3/envs/.venv/lib/python3.9/site-packages (from pandera[strategies]>=0.6.5->recommenders) (1.10.5)\n",
            "Requirement already satisfied: typing-inspect>=0.6.0 in /opt/anaconda3/envs/.venv/lib/python3.9/site-packages (from pandera[strategies]>=0.6.5->recommenders) (0.8.0)\n",
            "Requirement already satisfied: hypothesis>=5.41.1 in /opt/anaconda3/envs/.venv/lib/python3.9/site-packages (from pandera[strategies]>=0.6.5->recommenders) (6.68.2)\n",
            "Requirement already satisfied: charset-normalizer<3,>=2 in /opt/anaconda3/envs/.venv/lib/python3.9/site-packages (from requests<3,>=2.0.0->recommenders) (2.0.4)\n",
            "Requirement already satisfied: urllib3<1.27,>=1.21.1 in /opt/anaconda3/envs/.venv/lib/python3.9/site-packages (from requests<3,>=2.0.0->recommenders) (1.26.14)\n",
            "Requirement already satisfied: idna<4,>=2.5 in /opt/anaconda3/envs/.venv/lib/python3.9/site-packages (from requests<3,>=2.0.0->recommenders) (3.4)\n",
            "Requirement already satisfied: certifi>=2017.4.17 in /opt/anaconda3/envs/.venv/lib/python3.9/site-packages (from requests<3,>=2.0.0->recommenders) (2022.12.7)\n",
            "Requirement already satisfied: six>=1.7.0 in /opt/anaconda3/envs/.venv/lib/python3.9/site-packages (from retrying>=1.3.3->recommenders) (1.16.0)\n",
            "Requirement already satisfied: threadpoolctl>=2.0.0 in /opt/anaconda3/envs/.venv/lib/python3.9/site-packages (from scikit-learn<1.0.3,>=0.22.1->recommenders) (3.1.0)\n",
            "Requirement already satisfied: huggingface-hub<1.0,>=0.11.0 in /opt/anaconda3/envs/.venv/lib/python3.9/site-packages (from transformers<5,>=2.5.0->recommenders) (0.12.1)\n",
            "Requirement already satisfied: filelock in /opt/anaconda3/envs/.venv/lib/python3.9/site-packages (from transformers<5,>=2.5.0->recommenders) (3.9.0)\n",
            "Requirement already satisfied: tokenizers!=0.11.3,<0.14,>=0.11.1 in /opt/anaconda3/envs/.venv/lib/python3.9/site-packages (from transformers<5,>=2.5.0->recommenders) (0.13.2)\n",
            "Requirement already satisfied: typing-extensions>=3.7.4.3 in /opt/anaconda3/envs/.venv/lib/python3.9/site-packages (from huggingface-hub<1.0,>=0.11.0->transformers<5,>=2.5.0->recommenders) (4.4.0)\n",
            "Requirement already satisfied: sortedcontainers<3.0.0,>=2.1.0 in /opt/anaconda3/envs/.venv/lib/python3.9/site-packages (from hypothesis>=5.41.1->pandera[strategies]>=0.6.5->recommenders) (2.4.0)\n",
            "Requirement already satisfied: exceptiongroup>=1.0.0 in /opt/anaconda3/envs/.venv/lib/python3.9/site-packages (from hypothesis>=5.41.1->pandera[strategies]>=0.6.5->recommenders) (1.1.0)\n",
            "Requirement already satisfied: attrs>=19.2.0 in /opt/anaconda3/envs/.venv/lib/python3.9/site-packages (from hypothesis>=5.41.1->pandera[strategies]>=0.6.5->recommenders) (22.1.0)\n",
            "Requirement already satisfied: zipp>=3.1.0 in /opt/anaconda3/envs/.venv/lib/python3.9/site-packages (from importlib-resources>=3.2.0->matplotlib<4,>=2.2.2->recommenders) (3.11.0)\n",
            "Requirement already satisfied: mypy-extensions>=0.3.0 in /opt/anaconda3/envs/.venv/lib/python3.9/site-packages (from typing-inspect>=0.6.0->pandera[strategies]>=0.6.5->recommenders) (1.0.0)\n",
            "Requirement already satisfied: mpmath in /opt/anaconda3/envs/.venv/lib/python3.9/site-packages (from powerlaw->cornac<2,>=1.1.2->recommenders) (1.2.1)\n"
          ]
        }
      ],
      "source": [
        "!pip3 install scrapbook\n",
        "!pip3 install recommenders"
      ]
    },
    {
      "cell_type": "code",
      "execution_count": 23,
      "metadata": {
        "colab": {
          "base_uri": "https://localhost:8080/"
        },
        "id": "5TJWh4oXhWGj",
        "outputId": "1f2d875c-36b2-4523-efb0-d51c98cc2b7b"
      },
      "outputs": [
        {
          "name": "stdout",
          "output_type": "stream",
          "text": [
            "The autoreload extension is already loaded. To reload it, use:\n",
            "  %reload_ext autoreload\n",
            "System version: 3.9.16 (main, Jan 11 2023, 10:02:19) \n",
            "[Clang 14.0.6 ]\n",
            "Pandas version: 1.5.3\n"
          ]
        }
      ],
      "source": [
        "%load_ext autoreload\n",
        "%autoreload 2\n",
        "\n",
        "import logging\n",
        "import numpy as np\n",
        "import pandas as pd\n",
        "import scrapbook as sb\n",
        "from sklearn.preprocessing import minmax_scale\n",
        "\n",
        "from recommenders.utils.python_utils import binarize\n",
        "from recommenders.utils.timer import Timer\n",
        "from recommenders.datasets.python_splitters import python_stratified_split\n",
        "from sklearn.model_selection import train_test_split\n",
        "from recommenders.evaluation.python_evaluation import (\n",
        "    map_at_k,\n",
        "    ndcg_at_k,\n",
        "    precision_at_k,\n",
        "    recall_at_k,\n",
        "    rmse,\n",
        "    mae,\n",
        "    logloss,\n",
        "    rsquared,\n",
        "    exp_var\n",
        ")\n",
        "from recommenders.models.sar import SAR\n",
        "import sys\n",
        "\n",
        "print(\"System version: {}\".format(sys.version))\n",
        "print(\"Pandas version: {}\".format(pd.__version__))"
      ]
    },
    {
      "cell_type": "code",
      "execution_count": 24,
      "metadata": {
        "colab": {
          "base_uri": "https://localhost:8080/",
          "height": 537
        },
        "id": "TkyUazLRT_6t",
        "outputId": "8737d7fe-8c23-4753-c2ee-91b7d4e5435a"
      },
      "outputs": [
        {
          "data": {
            "text/html": [
              "<div>\n",
              "<style scoped>\n",
              "    .dataframe tbody tr th:only-of-type {\n",
              "        vertical-align: middle;\n",
              "    }\n",
              "\n",
              "    .dataframe tbody tr th {\n",
              "        vertical-align: top;\n",
              "    }\n",
              "\n",
              "    .dataframe thead th {\n",
              "        text-align: right;\n",
              "    }\n",
              "</style>\n",
              "<table border=\"1\" class=\"dataframe\">\n",
              "  <thead>\n",
              "    <tr style=\"text-align: right;\">\n",
              "      <th></th>\n",
              "      <th>Workspace_Id</th>\n",
              "      <th>Name</th>\n",
              "      <th>Rating</th>\n",
              "      <th>Review_count</th>\n",
              "      <th>Price_range</th>\n",
              "      <th>Category</th>\n",
              "      <th>Address</th>\n",
              "      <th>Latitude</th>\n",
              "      <th>Longitude</th>\n",
              "      <th>Next_status</th>\n",
              "    </tr>\n",
              "  </thead>\n",
              "  <tbody>\n",
              "    <tr>\n",
              "      <th>0</th>\n",
              "      <td>1</td>\n",
              "      <td>Eugenio Trias Municipal Public Library</td>\n",
              "      <td>3.8</td>\n",
              "      <td>800</td>\n",
              "      <td>0</td>\n",
              "      <td>Public library</td>\n",
              "      <td>P.º de Fernán Núñez, 24</td>\n",
              "      <td>40.416705</td>\n",
              "      <td>-3.679161</td>\n",
              "      <td>Opens 8:30 AM Mon</td>\n",
              "    </tr>\n",
              "    <tr>\n",
              "      <th>1</th>\n",
              "      <td>2</td>\n",
              "      <td>Iván de Vargas Library</td>\n",
              "      <td>4.3</td>\n",
              "      <td>313</td>\n",
              "      <td>0</td>\n",
              "      <td>Public library</td>\n",
              "      <td>C. de San Justo, 5</td>\n",
              "      <td>40.413991</td>\n",
              "      <td>-3.709750</td>\n",
              "      <td>Opens 8:30 AM Mon</td>\n",
              "    </tr>\n",
              "    <tr>\n",
              "      <th>2</th>\n",
              "      <td>3</td>\n",
              "      <td>Biblioteca Mario Vargas Llosa</td>\n",
              "      <td>3.8</td>\n",
              "      <td>178</td>\n",
              "      <td>0</td>\n",
              "      <td>Public library</td>\n",
              "      <td>C. de Barceló, 4</td>\n",
              "      <td>40.426713</td>\n",
              "      <td>-3.699394</td>\n",
              "      <td>Opens 8:30 AM Mon</td>\n",
              "    </tr>\n",
              "    <tr>\n",
              "      <th>3</th>\n",
              "      <td>4</td>\n",
              "      <td>Pedro Salinas Library</td>\n",
              "      <td>4.0</td>\n",
              "      <td>337</td>\n",
              "      <td>0</td>\n",
              "      <td>Public library</td>\n",
              "      <td>Gta. de la Prta de Toledo, 1</td>\n",
              "      <td>40.407074</td>\n",
              "      <td>-3.710894</td>\n",
              "      <td>Opens 9 AM Mon</td>\n",
              "    </tr>\n",
              "    <tr>\n",
              "      <th>4</th>\n",
              "      <td>5</td>\n",
              "      <td>Acuna Public Library</td>\n",
              "      <td>2.9</td>\n",
              "      <td>118</td>\n",
              "      <td>0</td>\n",
              "      <td>Public library</td>\n",
              "      <td>C. de Quintana, 9</td>\n",
              "      <td>40.427932</td>\n",
              "      <td>-3.716937</td>\n",
              "      <td>Opens 9 AM Mon</td>\n",
              "    </tr>\n",
              "    <tr>\n",
              "      <th>...</th>\n",
              "      <td>...</td>\n",
              "      <td>...</td>\n",
              "      <td>...</td>\n",
              "      <td>...</td>\n",
              "      <td>...</td>\n",
              "      <td>...</td>\n",
              "      <td>...</td>\n",
              "      <td>...</td>\n",
              "      <td>...</td>\n",
              "      <td>...</td>\n",
              "    </tr>\n",
              "    <tr>\n",
              "      <th>113</th>\n",
              "      <td>261</td>\n",
              "      <td>Harina</td>\n",
              "      <td>3.9</td>\n",
              "      <td>434</td>\n",
              "      <td>2</td>\n",
              "      <td>Coffee shop</td>\n",
              "      <td>C. de Velázquez, 61</td>\n",
              "      <td>40.429262</td>\n",
              "      <td>-3.684050</td>\n",
              "      <td>Closes 9 PM</td>\n",
              "    </tr>\n",
              "    <tr>\n",
              "      <th>114</th>\n",
              "      <td>262</td>\n",
              "      <td>The Coffee Corner</td>\n",
              "      <td>4.3</td>\n",
              "      <td>314</td>\n",
              "      <td>1</td>\n",
              "      <td>Coffee shop</td>\n",
              "      <td>Av. de Valladolid, 41</td>\n",
              "      <td>40.428630</td>\n",
              "      <td>-3.729667</td>\n",
              "      <td>Closes 9 PM</td>\n",
              "    </tr>\n",
              "    <tr>\n",
              "      <th>115</th>\n",
              "      <td>263</td>\n",
              "      <td>The Bear and the Madroño</td>\n",
              "      <td>4.4</td>\n",
              "      <td>590</td>\n",
              "      <td>1</td>\n",
              "      <td>Espresso bar</td>\n",
              "      <td>C. del Doce de Octubre, 16</td>\n",
              "      <td>40.415687</td>\n",
              "      <td>-3.675956</td>\n",
              "      <td>Closes 10:30 PM</td>\n",
              "    </tr>\n",
              "    <tr>\n",
              "      <th>116</th>\n",
              "      <td>264</td>\n",
              "      <td>Cafés Pozo</td>\n",
              "      <td>4.6</td>\n",
              "      <td>52</td>\n",
              "      <td>0</td>\n",
              "      <td>Coffee store</td>\n",
              "      <td>C. de Miguel Arredondo, 4</td>\n",
              "      <td>40.394994</td>\n",
              "      <td>-3.695993</td>\n",
              "      <td>Closes 2 PMReopens 5 PM</td>\n",
              "    </tr>\n",
              "    <tr>\n",
              "      <th>117</th>\n",
              "      <td>265</td>\n",
              "      <td>Cafés La Mexicana</td>\n",
              "      <td>4.6</td>\n",
              "      <td>112</td>\n",
              "      <td>0</td>\n",
              "      <td>Coffee store</td>\n",
              "      <td>Calle de Fuencarral, 115</td>\n",
              "      <td>40.429825</td>\n",
              "      <td>-3.702889</td>\n",
              "      <td>Closes 1:40 PMReopens 5 PM</td>\n",
              "    </tr>\n",
              "  </tbody>\n",
              "</table>\n",
              "<p>264 rows × 10 columns</p>\n",
              "</div>"
            ],
            "text/plain": [
              "     Workspace_Id                                    Name  Rating  \\\n",
              "0               1  Eugenio Trias Municipal Public Library     3.8   \n",
              "1               2                  Iván de Vargas Library     4.3   \n",
              "2               3           Biblioteca Mario Vargas Llosa     3.8   \n",
              "3               4                   Pedro Salinas Library     4.0   \n",
              "4               5                    Acuna Public Library     2.9   \n",
              "..            ...                                     ...     ...   \n",
              "113           261                                  Harina     3.9   \n",
              "114           262                       The Coffee Corner     4.3   \n",
              "115           263                The Bear and the Madroño     4.4   \n",
              "116           264                              Cafés Pozo     4.6   \n",
              "117           265                       Cafés La Mexicana     4.6   \n",
              "\n",
              "     Review_count  Price_range        Category                       Address  \\\n",
              "0             800            0  Public library       P.º de Fernán Núñez, 24   \n",
              "1             313            0  Public library            C. de San Justo, 5   \n",
              "2             178            0  Public library              C. de Barceló, 4   \n",
              "3             337            0  Public library  Gta. de la Prta de Toledo, 1   \n",
              "4             118            0  Public library             C. de Quintana, 9   \n",
              "..            ...          ...             ...                           ...   \n",
              "113           434            2     Coffee shop           C. de Velázquez, 61   \n",
              "114           314            1     Coffee shop         Av. de Valladolid, 41   \n",
              "115           590            1    Espresso bar    C. del Doce de Octubre, 16   \n",
              "116            52            0    Coffee store     C. de Miguel Arredondo, 4   \n",
              "117           112            0    Coffee store      Calle de Fuencarral, 115   \n",
              "\n",
              "      Latitude  Longitude                 Next_status  \n",
              "0    40.416705  -3.679161           Opens 8:30 AM Mon  \n",
              "1    40.413991  -3.709750           Opens 8:30 AM Mon  \n",
              "2    40.426713  -3.699394           Opens 8:30 AM Mon  \n",
              "3    40.407074  -3.710894              Opens 9 AM Mon  \n",
              "4    40.427932  -3.716937              Opens 9 AM Mon  \n",
              "..         ...        ...                         ...  \n",
              "113  40.429262  -3.684050                 Closes 9 PM  \n",
              "114  40.428630  -3.729667                 Closes 9 PM  \n",
              "115  40.415687  -3.675956             Closes 10:30 PM  \n",
              "116  40.394994  -3.695993     Closes 2 PMReopens 5 PM  \n",
              "117  40.429825  -3.702889  Closes 1:40 PMReopens 5 PM  \n",
              "\n",
              "[264 rows x 10 columns]"
            ]
          },
          "execution_count": 24,
          "metadata": {},
          "output_type": "execute_result"
        }
      ],
      "source": [
        "clean_df = pd.read_csv('../Reco/Data/workspaces_clean.csv', index_col=0)\n",
        "clean_df"
      ]
    },
    {
      "cell_type": "code",
      "execution_count": 25,
      "metadata": {
        "id": "wAxSpgLyhWGk"
      },
      "outputs": [],
      "source": [
        "# top k items to recommend\n",
        "TOP_K = 10"
      ]
    },
    {
      "cell_type": "markdown",
      "metadata": {
        "id": "UJPo1k0ZhWGl"
      },
      "source": [
        "Functions to generate a user ratings dataframe."
      ]
    },
    {
      "cell_type": "code",
      "execution_count": 26,
      "metadata": {
        "id": "Xp9ZuwtnhWGm"
      },
      "outputs": [],
      "source": [
        "# function to get a random workspace for given seed as parameter\n",
        "def generate_workspace(clean_df, random_seed):\n",
        "    random.seed(random_seed)\n",
        "    np.random.seed(random_seed)\n",
        "    num_workspaces = len(clean_df)\n",
        "    random_index = random.randint(0, num_workspaces - 1)\n",
        "    random_row = clean_df.iloc[random_index,[0]]\n",
        "    return random_row"
      ]
    },
    {
      "cell_type": "code",
      "execution_count": 27,
      "metadata": {
        "id": "lnb-fcfehWGm"
      },
      "outputs": [],
      "source": [
        "def generate_rating(random_seed):\n",
        "    random.seed(random_seed)\n",
        "    np.random.seed(random_seed)\n",
        "    return round(np.random.uniform(1.0, 5.0), 1)"
      ]
    },
    {
      "cell_type": "code",
      "execution_count": 28,
      "metadata": {
        "id": "GBnUkRd3hWGn"
      },
      "outputs": [],
      "source": [
        "import datetime\n",
        "from datetime import timedelta\n",
        "import random\n",
        "\n",
        "# function to generate a random date for transaction with a given seed as parameter\n",
        "def generate_date(random_date_seed):\n",
        "    \n",
        "    # set random seed\n",
        "    random.seed(random_date_seed) \n",
        "    \n",
        "    # set start date to January 1, 2020\n",
        "    start_date = datetime.datetime(2020, 1, 1) \n",
        "    \n",
        "     # set end date tp current date\n",
        "    end_date = datetime.datetime.now()\n",
        "    \n",
        "    # generate random date between start date and current date\n",
        "    random_date = start_date + (end_date - start_date) * random.random()\n",
        "    \n",
        "    return random_date"
      ]
    },
    {
      "cell_type": "code",
      "execution_count": 29,
      "metadata": {
        "id": "-aYCNib9hWGo"
      },
      "outputs": [],
      "source": [
        "import datetime\n",
        "from datetime import timedelta\n",
        "import random\n",
        "\n",
        "# function to generate a random date for transaction with a given seed as parameter\n",
        "def generate_timestamp(random_date_seed):\n",
        "    \n",
        "    # set random seed\n",
        "    random.seed(random_date_seed) \n",
        "    \n",
        "    # set start date to January 1, 2020\n",
        "    start_date = datetime.datetime(2020, 1, 1) \n",
        "    \n",
        "     # set end date tp current date\n",
        "    end_date = datetime.datetime.now()\n",
        "    \n",
        "    # generate random date between start date and current date\n",
        "    random_date = start_date + (end_date - start_date) * random.random()\n",
        "    \n",
        "    return round(datetime.datetime.timestamp(random_date))"
      ]
    },
    {
      "cell_type": "code",
      "execution_count": 30,
      "metadata": {
        "colab": {
          "base_uri": "https://localhost:8080/",
          "height": 424
        },
        "id": "SUUnhB3thWGo",
        "outputId": "ada34473-cff8-4556-dd53-3d0da1d82aef"
      },
      "outputs": [
        {
          "data": {
            "text/html": [
              "<div>\n",
              "<style scoped>\n",
              "    .dataframe tbody tr th:only-of-type {\n",
              "        vertical-align: middle;\n",
              "    }\n",
              "\n",
              "    .dataframe tbody tr th {\n",
              "        vertical-align: top;\n",
              "    }\n",
              "\n",
              "    .dataframe thead th {\n",
              "        text-align: right;\n",
              "    }\n",
              "</style>\n",
              "<table border=\"1\" class=\"dataframe\">\n",
              "  <thead>\n",
              "    <tr style=\"text-align: right;\">\n",
              "      <th></th>\n",
              "      <th>User_Id</th>\n",
              "      <th>Workspace_Id</th>\n",
              "      <th>Rating</th>\n",
              "      <th>Timestamp</th>\n",
              "      <th>Event</th>\n",
              "    </tr>\n",
              "  </thead>\n",
              "  <tbody>\n",
              "    <tr>\n",
              "      <th>0</th>\n",
              "      <td>1</td>\n",
              "      <td>197</td>\n",
              "      <td>2.3</td>\n",
              "      <td>1616067681</td>\n",
              "      <td>Click</td>\n",
              "    </tr>\n",
              "    <tr>\n",
              "      <th>0</th>\n",
              "      <td>1</td>\n",
              "      <td>241</td>\n",
              "      <td>3.4</td>\n",
              "      <td>1624767823</td>\n",
              "      <td>Click</td>\n",
              "    </tr>\n",
              "    <tr>\n",
              "      <th>0</th>\n",
              "      <td>1</td>\n",
              "      <td>43</td>\n",
              "      <td>1.5</td>\n",
              "      <td>1633520757</td>\n",
              "      <td>Click</td>\n",
              "    </tr>\n",
              "    <tr>\n",
              "      <th>0</th>\n",
              "      <td>1</td>\n",
              "      <td>61</td>\n",
              "      <td>1.9</td>\n",
              "      <td>1589723636</td>\n",
              "      <td>Click</td>\n",
              "    </tr>\n",
              "    <tr>\n",
              "      <th>0</th>\n",
              "      <td>1</td>\n",
              "      <td>56</td>\n",
              "      <td>4.2</td>\n",
              "      <td>1588646591</td>\n",
              "      <td>Click</td>\n",
              "    </tr>\n",
              "    <tr>\n",
              "      <th>...</th>\n",
              "      <td>...</td>\n",
              "      <td>...</td>\n",
              "      <td>...</td>\n",
              "      <td>...</td>\n",
              "      <td>...</td>\n",
              "    </tr>\n",
              "    <tr>\n",
              "      <th>0</th>\n",
              "      <td>100</td>\n",
              "      <td>169</td>\n",
              "      <td>1.5</td>\n",
              "      <td>1639089694</td>\n",
              "      <td>Click</td>\n",
              "    </tr>\n",
              "    <tr>\n",
              "      <th>0</th>\n",
              "      <td>100</td>\n",
              "      <td>210</td>\n",
              "      <td>4.1</td>\n",
              "      <td>1618691031</td>\n",
              "      <td>Click</td>\n",
              "    </tr>\n",
              "    <tr>\n",
              "      <th>0</th>\n",
              "      <td>100</td>\n",
              "      <td>114</td>\n",
              "      <td>4.6</td>\n",
              "      <td>1657824780</td>\n",
              "      <td>Click</td>\n",
              "    </tr>\n",
              "    <tr>\n",
              "      <th>0</th>\n",
              "      <td>100</td>\n",
              "      <td>116</td>\n",
              "      <td>1.3</td>\n",
              "      <td>1600430978</td>\n",
              "      <td>Click</td>\n",
              "    </tr>\n",
              "    <tr>\n",
              "      <th>0</th>\n",
              "      <td>100</td>\n",
              "      <td>166</td>\n",
              "      <td>1.9</td>\n",
              "      <td>1660230726</td>\n",
              "      <td>Click</td>\n",
              "    </tr>\n",
              "  </tbody>\n",
              "</table>\n",
              "<p>10000 rows × 5 columns</p>\n",
              "</div>"
            ],
            "text/plain": [
              "   User_Id Workspace_Id  Rating   Timestamp  Event\n",
              "0        1          197     2.3  1616067681  Click\n",
              "0        1          241     3.4  1624767823  Click\n",
              "0        1           43     1.5  1633520757  Click\n",
              "0        1           61     1.9  1589723636  Click\n",
              "0        1           56     4.2  1588646591  Click\n",
              "..     ...          ...     ...         ...    ...\n",
              "0      100          169     1.5  1639089694  Click\n",
              "0      100          210     4.1  1618691031  Click\n",
              "0      100          114     4.6  1657824780  Click\n",
              "0      100          116     1.3  1600430978  Click\n",
              "0      100          166     1.9  1660230726  Click\n",
              "\n",
              "[10000 rows x 5 columns]"
            ]
          },
          "execution_count": 30,
          "metadata": {},
          "output_type": "execute_result"
        }
      ],
      "source": [
        "# Get 100 row indices labels following pattern:\n",
        "# User_1, User_2, User_3 ... User_100\n",
        "user_row_indices = []\n",
        "for i in range(1, 101):\n",
        "    user_row_indices.append(i)\n",
        "\n",
        "\n",
        "# set columns for user transactions data frame\n",
        "cols = [\"User_Id\", \"Workspace_Id\", \"Rating\", \"Timestamp\", \"Event\"]\n",
        "\n",
        "# create user transactions dataframe given columns\n",
        "transactions_df = pd.DataFrame(columns = cols)\n",
        "\n",
        "# two seeds are needed to generate random values: transaction_seed and workspace_date_rating_rating_seed\n",
        "# transaction_seed to generate a random number of transactions for each user\n",
        "# workspace_date_rating_rating_seed to genrate a workspace and date for each new transaction\n",
        "transaction_seed, workspace_date_rating_rating_seed = 2023, 2023\n",
        "\n",
        "for user in user_row_indices:\n",
        "    \n",
        "    # initialise transaction_seed\n",
        "    random.seed(transaction_seed)\n",
        "    np.random.seed(transaction_seed)\n",
        "    \n",
        "    # get number of transactions for each user with seed\n",
        "    #num_trans = random.randint(1, 20)\n",
        "    \n",
        "    # generate n transactions for current user, n = num_trans\n",
        "    for i in range(1, 101):\n",
        "        \n",
        "        # generate a random date with workspace_date_rating seed\n",
        "        # result is a tuple (\"workspace name\", \"category\")\n",
        "        workspace = generate_workspace(clean_df, workspace_date_rating_rating_seed)\n",
        "        \n",
        "        # generate a random rating with workspace_date_rating seed\n",
        "        rating = generate_rating(workspace_date_rating_rating_seed)\n",
        "        \n",
        "        # generate a random workspace with workspace_date_rating seed\n",
        "        timestamp = generate_timestamp(workspace_date_rating_rating_seed)\n",
        "        \n",
        "        # create transaction row with generated data\n",
        "        row = pd.DataFrame({\n",
        "            \"User_Id\": [user],\n",
        "            \"Workspace_Id\": (workspace[0]),\n",
        "            \"Rating\": [rating],\n",
        "            \"Timestamp\": [timestamp],\n",
        "            \"Event\": [\"Click\"]\n",
        "        })\n",
        "        \n",
        "        # concatenate new transaction row to transaction_df\n",
        "        transactions_df = pd.concat([transactions_df, row])\n",
        "        \n",
        "        # increment workspace_date_rating_rating_seed so that each new transaction\n",
        "        # generates a different workspace and date\n",
        "        # that stays the same each time the program is repeated\n",
        "        workspace_date_rating_rating_seed += 1\n",
        "        \n",
        "    # increment transaction_seed so that each new user generates a new number of transaction\n",
        "    # that stays the same each time the program is repeated\n",
        "    transaction_seed += 1\n",
        "    \n",
        "transactions_df"
      ]
    },
    {
      "cell_type": "code",
      "execution_count": 31,
      "metadata": {
        "colab": {
          "base_uri": "https://localhost:8080/"
        },
        "id": "-6FB1iBBhWGp",
        "outputId": "e2abefb9-9ff7-4815-d131-e413bc23fe7d"
      },
      "outputs": [
        {
          "data": {
            "text/plain": [
              "User_Id          object\n",
              "Workspace_Id     object\n",
              "Rating          float64\n",
              "Timestamp        object\n",
              "Event            object\n",
              "dtype: object"
            ]
          },
          "execution_count": 31,
          "metadata": {},
          "output_type": "execute_result"
        }
      ],
      "source": [
        "transactions_df.dtypes"
      ]
    },
    {
      "cell_type": "code",
      "execution_count": 32,
      "metadata": {
        "colab": {
          "base_uri": "https://localhost:8080/"
        },
        "id": "yfEGXVXnhWGp",
        "outputId": "e34fd0fa-bd92-40e5-c0ab-91c4020fd2a7"
      },
      "outputs": [
        {
          "data": {
            "text/plain": [
              "User_Id           int64\n",
              "Workspace_Id      int64\n",
              "Rating          float64\n",
              "Timestamp        object\n",
              "Event            object\n",
              "dtype: object"
            ]
          },
          "execution_count": 32,
          "metadata": {},
          "output_type": "execute_result"
        }
      ],
      "source": [
        "transactions_df[\"User_Id\"] = transactions_df[\"User_Id\"].astype(\"int64\")\n",
        "transactions_df[\"Workspace_Id\"] = transactions_df[\"Workspace_Id\"].astype(\"int64\")\n",
        "transactions_df.dtypes"
      ]
    },
    {
      "cell_type": "code",
      "execution_count": 33,
      "metadata": {
        "colab": {
          "base_uri": "https://localhost:8080/"
        },
        "id": "y_qqXc9mhWGp",
        "outputId": "e6f9d914-c743-4651-b135-c0a123d72112"
      },
      "outputs": [
        {
          "name": "stdout",
          "output_type": "stream",
          "text": [
            "\n",
            "Train:\n",
            "Total Ratings: 7500\n",
            "Unique Users: 100\n",
            "Unique Items: 264\n",
            "\n",
            "Test:\n",
            "Total Ratings: 2500\n",
            "Unique Users: 100\n",
            "Unique Items: 264\n",
            "\n"
          ]
        }
      ],
      "source": [
        "train, test = python_stratified_split(transactions_df, ratio=0.75, col_user='User_Id', col_item='Workspace_Id', seed=42)\n",
        "print(\"\"\"\n",
        "Train:\n",
        "Total Ratings: {train_total}\n",
        "Unique Users: {train_users}\n",
        "Unique Items: {train_items}\n",
        "\n",
        "Test:\n",
        "Total Ratings: {test_total}\n",
        "Unique Users: {test_users}\n",
        "Unique Items: {test_items}\n",
        "\"\"\".format(\n",
        "    train_total=len(train),\n",
        "    train_users=len(train['User_Id'].unique()),\n",
        "    train_items=len(train['Workspace_Id'].unique()),\n",
        "    test_total=len(test),\n",
        "    test_users=len(test['User_Id'].unique()),\n",
        "    test_items=len(test['Workspace_Id'].unique()),\n",
        "))"
      ]
    },
    {
      "cell_type": "code",
      "execution_count": 34,
      "metadata": {
        "id": "W8-gmdW1hWGq"
      },
      "outputs": [],
      "source": [
        "logging.basicConfig(level=logging.DEBUG, \n",
        "                    format='%(asctime)s %(levelname)-8s %(message)s')\n",
        "\n",
        "model = SAR(\n",
        "    col_user=\"User_Id\",\n",
        "    col_item=\"Workspace_Id\",\n",
        "    col_rating=\"Rating\",\n",
        "    col_timestamp=\"Timestamp\",\n",
        "    similarity_type=\"jaccard\", \n",
        "    time_decay_coefficient=30, \n",
        "    timedecay_formula=True,\n",
        "    normalize=True\n",
        ")"
      ]
    },
    {
      "cell_type": "code",
      "execution_count": 35,
      "metadata": {
        "colab": {
          "base_uri": "https://localhost:8080/"
        },
        "id": "PyeXsT4fhWGq",
        "outputId": "8d25b5f2-5007-4648-80c1-790df91213f1"
      },
      "outputs": [
        {
          "name": "stderr",
          "output_type": "stream",
          "text": [
            "2023-03-01 15:54:53,493 INFO     Collecting user affinity matrix\n",
            "2023-03-01 15:54:53,494 INFO     Calculating time-decayed affinities\n",
            "2023-03-01 15:54:53,500 INFO     Creating index columns\n",
            "2023-03-01 15:54:53,504 INFO     Calculating normalization factors\n",
            "2023-03-01 15:54:53,509 INFO     Building user affinity sparse matrix\n",
            "2023-03-01 15:54:53,510 INFO     Calculating item co-occurrence\n",
            "2023-03-01 15:54:53,517 INFO     Calculating item similarity\n",
            "2023-03-01 15:54:53,517 INFO     Using jaccard based similarity\n",
            "2023-03-01 15:54:53,519 INFO     Done training\n"
          ]
        },
        {
          "name": "stdout",
          "output_type": "stream",
          "text": [
            "Took 0.02903770800000416 seconds for training.\n"
          ]
        }
      ],
      "source": [
        "with Timer() as train_time:\n",
        "    model.fit(train)\n",
        "\n",
        "print(\"Took {} seconds for training.\".format(train_time.interval))"
      ]
    },
    {
      "cell_type": "code",
      "execution_count": 36,
      "metadata": {
        "colab": {
          "base_uri": "https://localhost:8080/"
        },
        "id": "yqMUEp49hWGq",
        "outputId": "5c6ba7fb-27cd-44f7-ae7f-9d434fcefeab"
      },
      "outputs": [
        {
          "name": "stderr",
          "output_type": "stream",
          "text": [
            "2023-03-01 15:54:53,553 INFO     Calculating recommendation scores\n",
            "2023-03-01 15:54:53,555 INFO     Removing seen items\n"
          ]
        },
        {
          "name": "stdout",
          "output_type": "stream",
          "text": [
            "Took 0.006090125000014268 seconds for prediction.\n"
          ]
        }
      ],
      "source": [
        "with Timer() as test_time:\n",
        "    top_k = model.recommend_k_items(test, top_k=TOP_K, remove_seen=True)\n",
        "\n",
        "print(\"Took {} seconds for prediction.\".format(test_time.interval))"
      ]
    },
    {
      "cell_type": "code",
      "execution_count": 37,
      "metadata": {
        "colab": {
          "base_uri": "https://localhost:8080/",
          "height": 206
        },
        "id": "GlC3RcaRhWGq",
        "outputId": "c4c1f2fc-26f2-4c0b-9fca-670d573be07c"
      },
      "outputs": [
        {
          "data": {
            "text/html": [
              "<div>\n",
              "<style scoped>\n",
              "    .dataframe tbody tr th:only-of-type {\n",
              "        vertical-align: middle;\n",
              "    }\n",
              "\n",
              "    .dataframe tbody tr th {\n",
              "        vertical-align: top;\n",
              "    }\n",
              "\n",
              "    .dataframe thead th {\n",
              "        text-align: right;\n",
              "    }\n",
              "</style>\n",
              "<table border=\"1\" class=\"dataframe\">\n",
              "  <thead>\n",
              "    <tr style=\"text-align: right;\">\n",
              "      <th></th>\n",
              "      <th>User_Id</th>\n",
              "      <th>Workspace_Id</th>\n",
              "      <th>prediction</th>\n",
              "    </tr>\n",
              "  </thead>\n",
              "  <tbody>\n",
              "    <tr>\n",
              "      <th>0</th>\n",
              "      <td>1</td>\n",
              "      <td>13</td>\n",
              "      <td>0.328121</td>\n",
              "    </tr>\n",
              "    <tr>\n",
              "      <th>1</th>\n",
              "      <td>1</td>\n",
              "      <td>123</td>\n",
              "      <td>0.327976</td>\n",
              "    </tr>\n",
              "    <tr>\n",
              "      <th>2</th>\n",
              "      <td>1</td>\n",
              "      <td>132</td>\n",
              "      <td>0.315800</td>\n",
              "    </tr>\n",
              "    <tr>\n",
              "      <th>3</th>\n",
              "      <td>1</td>\n",
              "      <td>87</td>\n",
              "      <td>0.315228</td>\n",
              "    </tr>\n",
              "    <tr>\n",
              "      <th>4</th>\n",
              "      <td>1</td>\n",
              "      <td>72</td>\n",
              "      <td>0.312476</td>\n",
              "    </tr>\n",
              "  </tbody>\n",
              "</table>\n",
              "</div>"
            ],
            "text/plain": [
              "   User_Id  Workspace_Id  prediction\n",
              "0        1            13    0.328121\n",
              "1        1           123    0.327976\n",
              "2        1           132    0.315800\n",
              "3        1            87    0.315228\n",
              "4        1            72    0.312476"
            ]
          },
          "execution_count": 37,
          "metadata": {},
          "output_type": "execute_result"
        }
      ],
      "source": [
        "top_k.head()"
      ]
    },
    {
      "cell_type": "markdown",
      "metadata": {
        "id": "Gt2eJAaphWGq"
      },
      "source": [
        "## Evaluate SAR model"
      ]
    },
    {
      "cell_type": "code",
      "execution_count": 38,
      "metadata": {
        "id": "EQ47Phy_hWGr"
      },
      "outputs": [],
      "source": [
        "eval_map = map_at_k(test, top_k, col_user='User_Id', col_item='Workspace_Id', col_rating='Rating', k=TOP_K)"
      ]
    },
    {
      "cell_type": "code",
      "execution_count": 39,
      "metadata": {
        "id": "o4ObAlt9hWGr"
      },
      "outputs": [],
      "source": [
        "eval_ndcg = ndcg_at_k(test, top_k, col_user='User_Id', col_item='Workspace_Id', col_rating='Rating', k=TOP_K)"
      ]
    },
    {
      "cell_type": "code",
      "execution_count": 40,
      "metadata": {
        "id": "m-qmblEvhWGr"
      },
      "outputs": [],
      "source": [
        "eval_precision = precision_at_k(test, top_k, col_user='User_Id', col_item='Workspace_Id', col_rating='Rating', k=TOP_K)"
      ]
    },
    {
      "cell_type": "code",
      "execution_count": 41,
      "metadata": {
        "id": "Vhka3zFNhWGr"
      },
      "outputs": [],
      "source": [
        "eval_recall = recall_at_k(test, top_k, col_user='User_Id', col_item='Workspace_Id', col_rating='Rating', k=TOP_K)"
      ]
    },
    {
      "cell_type": "code",
      "execution_count": 42,
      "metadata": {
        "id": "i9id17VQhWGr"
      },
      "outputs": [],
      "source": [
        "eval_rmse = rmse(test, top_k, col_user='User_Id', col_item='Workspace_Id', col_rating='Rating')"
      ]
    },
    {
      "cell_type": "code",
      "execution_count": 43,
      "metadata": {
        "id": "K36-fX28hWGr"
      },
      "outputs": [],
      "source": [
        "eval_mae = mae(test, top_k, col_user='User_Id', col_item='Workspace_Id', col_rating='Rating')"
      ]
    },
    {
      "cell_type": "code",
      "execution_count": 44,
      "metadata": {
        "id": "BzMCh3_0hWGr"
      },
      "outputs": [],
      "source": [
        "eval_rsquared = rsquared(test, top_k, col_user='User_Id', col_item='Workspace_Id', col_rating='Rating')"
      ]
    },
    {
      "cell_type": "code",
      "execution_count": 45,
      "metadata": {
        "id": "G0ERndA7hWGr"
      },
      "outputs": [],
      "source": [
        "eval_exp_var = exp_var(test, top_k, col_user='User_Id', col_item='Workspace_Id', col_rating='Rating')"
      ]
    },
    {
      "cell_type": "code",
      "execution_count": 46,
      "metadata": {
        "id": "I22ZIEHPhWGr"
      },
      "outputs": [],
      "source": [
        "positivity_threshold = 2\n",
        "test_bin = test.copy()\n",
        "test_bin['Rating'] = binarize(test_bin['Rating'], positivity_threshold)\n",
        "\n",
        "top_k_prob = top_k.copy()\n",
        "top_k_prob['prediction'] = minmax_scale(\n",
        "    top_k_prob['prediction'].astype(float)\n",
        ")\n",
        "\n",
        "eval_logloss = logloss(test_bin, top_k_prob, col_user='User_Id', col_item='Workspace_Id', col_rating='Rating')"
      ]
    },
    {
      "cell_type": "code",
      "execution_count": 47,
      "metadata": {
        "id": "FlDEZObChWGs"
      },
      "outputs": [],
      "source": [
        "positivity_threshold = 2\n",
        "test_bin = test.copy()\n",
        "test_bin['Rating'] = binarize(test_bin['Rating'], positivity_threshold)\n",
        "\n",
        "top_k_prob = top_k.copy()\n",
        "top_k_prob['prediction'] = minmax_scale(\n",
        "    top_k_prob['prediction'].astype(float)\n",
        ")\n",
        "\n",
        "eval_logloss = logloss(test_bin, top_k_prob, col_user='User_Id', col_item='Workspace_Id', col_rating='Rating')"
      ]
    },
    {
      "cell_type": "code",
      "execution_count": 48,
      "metadata": {
        "colab": {
          "base_uri": "https://localhost:8080/"
        },
        "id": "VxHXmXuihWGs",
        "outputId": "029c4e84-7fde-475c-a805-f756c334d1a8"
      },
      "outputs": [
        {
          "name": "stdout",
          "output_type": "stream",
          "text": [
            "Model:\t\n",
            "Top K:\t10\n",
            "MAP:\t0.013686\n",
            "NDCG:\t0.093306\n",
            "Precision@K:\t0.093000\n",
            "Recall@K:\t0.037200\n",
            "RMSE:\t2.863171\n",
            "MAE:\t2.574562\n",
            "R2:\t-4.483366\n",
            "Exp var:\t-0.049736\n",
            "Logloss:\t1.103325\n"
          ]
        }
      ],
      "source": [
        "print(\"Model:\\t\",\n",
        "      \"Top K:\\t%d\" % TOP_K,\n",
        "      \"MAP:\\t%f\" % eval_map,\n",
        "      \"NDCG:\\t%f\" % eval_ndcg,\n",
        "      \"Precision@K:\\t%f\" % eval_precision,\n",
        "      \"Recall@K:\\t%f\" % eval_recall,\n",
        "      \"RMSE:\\t%f\" % eval_rmse,\n",
        "      \"MAE:\\t%f\" % eval_mae,\n",
        "      \"R2:\\t%f\" % eval_rsquared,\n",
        "      \"Exp var:\\t%f\" % eval_exp_var,\n",
        "      \"Logloss:\\t%f\" % eval_logloss,\n",
        "      sep='\\n')"
      ]
    },
    {
      "cell_type": "code",
      "execution_count": 49,
      "metadata": {
        "colab": {
          "base_uri": "https://localhost:8080/",
          "height": 363
        },
        "id": "Lj4IZPIRhWGs",
        "outputId": "4691449b-bafe-4cc0-9305-86cc9db0fdc2"
      },
      "outputs": [
        {
          "name": "stderr",
          "output_type": "stream",
          "text": [
            "2023-03-01 15:54:54,068 INFO     Calculating recommendation scores\n",
            "2023-03-01 15:54:54,069 INFO     Removing seen items\n"
          ]
        },
        {
          "data": {
            "text/html": [
              "<div>\n",
              "<style scoped>\n",
              "    .dataframe tbody tr th:only-of-type {\n",
              "        vertical-align: middle;\n",
              "    }\n",
              "\n",
              "    .dataframe tbody tr th {\n",
              "        vertical-align: top;\n",
              "    }\n",
              "\n",
              "    .dataframe thead th {\n",
              "        text-align: right;\n",
              "    }\n",
              "</style>\n",
              "<table border=\"1\" class=\"dataframe\">\n",
              "  <thead>\n",
              "    <tr style=\"text-align: right;\">\n",
              "      <th></th>\n",
              "      <th>User_Id</th>\n",
              "      <th>Workspace_Id</th>\n",
              "      <th>Rating</th>\n",
              "      <th>Timestamp</th>\n",
              "      <th>Event</th>\n",
              "      <th>prediction</th>\n",
              "    </tr>\n",
              "  </thead>\n",
              "  <tbody>\n",
              "    <tr>\n",
              "      <th>0</th>\n",
              "      <td>1</td>\n",
              "      <td>75</td>\n",
              "      <td>4.9</td>\n",
              "      <td>1592421822</td>\n",
              "      <td>Click</td>\n",
              "      <td>NaN</td>\n",
              "    </tr>\n",
              "    <tr>\n",
              "      <th>1</th>\n",
              "      <td>1</td>\n",
              "      <td>88</td>\n",
              "      <td>4.7</td>\n",
              "      <td>1594852944</td>\n",
              "      <td>Click</td>\n",
              "      <td>NaN</td>\n",
              "    </tr>\n",
              "    <tr>\n",
              "      <th>2</th>\n",
              "      <td>1</td>\n",
              "      <td>208</td>\n",
              "      <td>4.6</td>\n",
              "      <td>1633381808</td>\n",
              "      <td>Click</td>\n",
              "      <td>NaN</td>\n",
              "    </tr>\n",
              "    <tr>\n",
              "      <th>3</th>\n",
              "      <td>1</td>\n",
              "      <td>124</td>\n",
              "      <td>4.4</td>\n",
              "      <td>1676897143</td>\n",
              "      <td>Click</td>\n",
              "      <td>NaN</td>\n",
              "    </tr>\n",
              "    <tr>\n",
              "      <th>4</th>\n",
              "      <td>1</td>\n",
              "      <td>140</td>\n",
              "      <td>4.3</td>\n",
              "      <td>1640652539</td>\n",
              "      <td>Click</td>\n",
              "      <td>NaN</td>\n",
              "    </tr>\n",
              "    <tr>\n",
              "      <th>5</th>\n",
              "      <td>1</td>\n",
              "      <td>137</td>\n",
              "      <td>4.2</td>\n",
              "      <td>1643281653</td>\n",
              "      <td>Click</td>\n",
              "      <td>NaN</td>\n",
              "    </tr>\n",
              "    <tr>\n",
              "      <th>6</th>\n",
              "      <td>1</td>\n",
              "      <td>168</td>\n",
              "      <td>3.6</td>\n",
              "      <td>1670534454</td>\n",
              "      <td>Click</td>\n",
              "      <td>NaN</td>\n",
              "    </tr>\n",
              "    <tr>\n",
              "      <th>7</th>\n",
              "      <td>1</td>\n",
              "      <td>203</td>\n",
              "      <td>3.5</td>\n",
              "      <td>1617333202</td>\n",
              "      <td>Click</td>\n",
              "      <td>NaN</td>\n",
              "    </tr>\n",
              "    <tr>\n",
              "      <th>8</th>\n",
              "      <td>1</td>\n",
              "      <td>131</td>\n",
              "      <td>3.4</td>\n",
              "      <td>1603213550</td>\n",
              "      <td>Click</td>\n",
              "      <td>NaN</td>\n",
              "    </tr>\n",
              "    <tr>\n",
              "      <th>9</th>\n",
              "      <td>1</td>\n",
              "      <td>9</td>\n",
              "      <td>3.4</td>\n",
              "      <td>1676925209</td>\n",
              "      <td>Click</td>\n",
              "      <td>NaN</td>\n",
              "    </tr>\n",
              "  </tbody>\n",
              "</table>\n",
              "</div>"
            ],
            "text/plain": [
              "   User_Id  Workspace_Id  Rating   Timestamp  Event  prediction\n",
              "0        1            75     4.9  1592421822  Click         NaN\n",
              "1        1            88     4.7  1594852944  Click         NaN\n",
              "2        1           208     4.6  1633381808  Click         NaN\n",
              "3        1           124     4.4  1676897143  Click         NaN\n",
              "4        1           140     4.3  1640652539  Click         NaN\n",
              "5        1           137     4.2  1643281653  Click         NaN\n",
              "6        1           168     3.6  1670534454  Click         NaN\n",
              "7        1           203     3.5  1617333202  Click         NaN\n",
              "8        1           131     3.4  1603213550  Click         NaN\n",
              "9        1             9     3.4  1676925209  Click         NaN"
            ]
          },
          "execution_count": 49,
          "metadata": {},
          "output_type": "execute_result"
        }
      ],
      "source": [
        "# Now let's look at the results for a specific user\n",
        "user_id = 1\n",
        "\n",
        "ground_truth = test[test['User_Id']==user_id].sort_values(by='Rating', ascending=False)[:TOP_K]\n",
        "prediction = model.recommend_k_items(pd.DataFrame(dict(User_Id=[user_id])), remove_seen=True) \n",
        "final = pd.merge(ground_truth, prediction, on=['User_Id', 'Workspace_Id'], how='left')\n",
        "\n",
        "final"
      ]
    },
    {
      "cell_type": "code",
      "execution_count": 50,
      "metadata": {
        "colab": {
          "base_uri": "https://localhost:8080/",
          "height": 17
        },
        "id": "qY3UbJwshWGs",
        "outputId": "ce53fe7b-624a-49f5-c87a-ffd8786cf998"
      },
      "outputs": [
        {
          "data": {
            "application/scrapbook.scrap.json+json": {
              "data": 0.013686190476190477,
              "encoder": "json",
              "name": "map",
              "version": 1
            }
          },
          "metadata": {
            "scrapbook": {
              "data": true,
              "display": false,
              "name": "map"
            }
          },
          "output_type": "display_data"
        },
        {
          "data": {
            "application/scrapbook.scrap.json+json": {
              "data": 0.0933056750488916,
              "encoder": "json",
              "name": "ndcg",
              "version": 1
            }
          },
          "metadata": {
            "scrapbook": {
              "data": true,
              "display": false,
              "name": "ndcg"
            }
          },
          "output_type": "display_data"
        },
        {
          "data": {
            "application/scrapbook.scrap.json+json": {
              "data": 0.09299999999999997,
              "encoder": "json",
              "name": "precision",
              "version": 1
            }
          },
          "metadata": {
            "scrapbook": {
              "data": true,
              "display": false,
              "name": "precision"
            }
          },
          "output_type": "display_data"
        },
        {
          "data": {
            "application/scrapbook.scrap.json+json": {
              "data": 0.037200000000000004,
              "encoder": "json",
              "name": "recall",
              "version": 1
            }
          },
          "metadata": {
            "scrapbook": {
              "data": true,
              "display": false,
              "name": "recall"
            }
          },
          "output_type": "display_data"
        },
        {
          "data": {
            "application/scrapbook.scrap.json+json": {
              "data": 0.02903770800000416,
              "encoder": "json",
              "name": "train_time",
              "version": 1
            }
          },
          "metadata": {
            "scrapbook": {
              "data": true,
              "display": false,
              "name": "train_time"
            }
          },
          "output_type": "display_data"
        },
        {
          "data": {
            "application/scrapbook.scrap.json+json": {
              "data": 0.006090125000014268,
              "encoder": "json",
              "name": "test_time",
              "version": 1
            }
          },
          "metadata": {
            "scrapbook": {
              "data": true,
              "display": false,
              "name": "test_time"
            }
          },
          "output_type": "display_data"
        }
      ],
      "source": [
        "# Record results with papermill for tests - ignore this cell\n",
        "sb.glue(\"map\", eval_map)\n",
        "sb.glue(\"ndcg\", eval_ndcg)\n",
        "sb.glue(\"precision\", eval_precision)\n",
        "sb.glue(\"recall\", eval_recall)\n",
        "sb.glue(\"train_time\", train_time.interval)\n",
        "sb.glue(\"test_time\", test_time.interval)"
      ]
    }
  ],
  "metadata": {
    "colab": {
      "provenance": []
    },
    "kernelspec": {
      "display_name": "Python 3",
      "language": "python",
      "name": "python3"
    },
    "language_info": {
      "codemirror_mode": {
        "name": "ipython",
        "version": 3
      },
      "file_extension": ".py",
      "mimetype": "text/x-python",
      "name": "python",
      "nbconvert_exporter": "python",
      "pygments_lexer": "ipython3",
      "version": "3.11.2"
    },
    "vscode": {
      "interpreter": {
        "hash": "aee8b7b246df8f9039afb4144a1f6fd8d2ca17a180786b69acc140d282b71a49"
      }
    }
  },
  "nbformat": 4,
  "nbformat_minor": 0
}
